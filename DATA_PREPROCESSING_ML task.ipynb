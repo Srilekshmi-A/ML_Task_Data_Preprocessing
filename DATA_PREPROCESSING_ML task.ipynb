{
 "cells": [
  {
   "cell_type": "code",
   "execution_count": 144,
   "id": "c4caeb06-1186-4e22-866c-7f2e349ce88b",
   "metadata": {},
   "outputs": [],
   "source": [
    "#libraries loading\n",
    "import numpy as np\n",
    "import pandas as pd\n",
    "import matplotlib.pyplot as plt\n",
    "import seaborn as sns"
   ]
  },
  {
   "cell_type": "code",
   "execution_count": 145,
   "id": "4b6517b9-5afa-4d18-8fd1-8b27c1bb6ca9",
   "metadata": {},
   "outputs": [],
   "source": [
    "#reading file\n",
    "df = pd.read_csv(\"Employee.csv\")"
   ]
  },
  {
   "cell_type": "markdown",
   "id": "bb7bd345-e38d-4213-8f9a-ae285ab8527b",
   "metadata": {},
   "source": [
    "## Data Exploration"
   ]
  },
  {
   "cell_type": "code",
   "execution_count": 146,
   "id": "e035ab27-6a17-4388-9736-c3de5537c629",
   "metadata": {},
   "outputs": [
    {
     "data": {
      "text/html": [
       "<div>\n",
       "<style scoped>\n",
       "    .dataframe tbody tr th:only-of-type {\n",
       "        vertical-align: middle;\n",
       "    }\n",
       "\n",
       "    .dataframe tbody tr th {\n",
       "        vertical-align: top;\n",
       "    }\n",
       "\n",
       "    .dataframe thead th {\n",
       "        text-align: right;\n",
       "    }\n",
       "</style>\n",
       "<table border=\"1\" class=\"dataframe\">\n",
       "  <thead>\n",
       "    <tr style=\"text-align: right;\">\n",
       "      <th></th>\n",
       "      <th>Company</th>\n",
       "      <th>Age</th>\n",
       "      <th>Salary</th>\n",
       "      <th>Place</th>\n",
       "      <th>Country</th>\n",
       "      <th>Gender</th>\n",
       "    </tr>\n",
       "  </thead>\n",
       "  <tbody>\n",
       "    <tr>\n",
       "      <th>0</th>\n",
       "      <td>TCS</td>\n",
       "      <td>20.0</td>\n",
       "      <td>NaN</td>\n",
       "      <td>Chennai</td>\n",
       "      <td>India</td>\n",
       "      <td>0</td>\n",
       "    </tr>\n",
       "    <tr>\n",
       "      <th>1</th>\n",
       "      <td>Infosys</td>\n",
       "      <td>30.0</td>\n",
       "      <td>NaN</td>\n",
       "      <td>Mumbai</td>\n",
       "      <td>India</td>\n",
       "      <td>0</td>\n",
       "    </tr>\n",
       "    <tr>\n",
       "      <th>2</th>\n",
       "      <td>TCS</td>\n",
       "      <td>35.0</td>\n",
       "      <td>2300.0</td>\n",
       "      <td>Calcutta</td>\n",
       "      <td>India</td>\n",
       "      <td>0</td>\n",
       "    </tr>\n",
       "    <tr>\n",
       "      <th>3</th>\n",
       "      <td>Infosys</td>\n",
       "      <td>40.0</td>\n",
       "      <td>3000.0</td>\n",
       "      <td>Delhi</td>\n",
       "      <td>India</td>\n",
       "      <td>0</td>\n",
       "    </tr>\n",
       "    <tr>\n",
       "      <th>4</th>\n",
       "      <td>TCS</td>\n",
       "      <td>23.0</td>\n",
       "      <td>4000.0</td>\n",
       "      <td>Mumbai</td>\n",
       "      <td>India</td>\n",
       "      <td>0</td>\n",
       "    </tr>\n",
       "    <tr>\n",
       "      <th>...</th>\n",
       "      <td>...</td>\n",
       "      <td>...</td>\n",
       "      <td>...</td>\n",
       "      <td>...</td>\n",
       "      <td>...</td>\n",
       "      <td>...</td>\n",
       "    </tr>\n",
       "    <tr>\n",
       "      <th>143</th>\n",
       "      <td>TCS</td>\n",
       "      <td>33.0</td>\n",
       "      <td>9024.0</td>\n",
       "      <td>Calcutta</td>\n",
       "      <td>India</td>\n",
       "      <td>1</td>\n",
       "    </tr>\n",
       "    <tr>\n",
       "      <th>144</th>\n",
       "      <td>Infosys</td>\n",
       "      <td>22.0</td>\n",
       "      <td>8787.0</td>\n",
       "      <td>Calcutta</td>\n",
       "      <td>India</td>\n",
       "      <td>1</td>\n",
       "    </tr>\n",
       "    <tr>\n",
       "      <th>145</th>\n",
       "      <td>Infosys</td>\n",
       "      <td>44.0</td>\n",
       "      <td>4034.0</td>\n",
       "      <td>Delhi</td>\n",
       "      <td>India</td>\n",
       "      <td>1</td>\n",
       "    </tr>\n",
       "    <tr>\n",
       "      <th>146</th>\n",
       "      <td>TCS</td>\n",
       "      <td>33.0</td>\n",
       "      <td>5034.0</td>\n",
       "      <td>Mumbai</td>\n",
       "      <td>India</td>\n",
       "      <td>1</td>\n",
       "    </tr>\n",
       "    <tr>\n",
       "      <th>147</th>\n",
       "      <td>Infosys</td>\n",
       "      <td>22.0</td>\n",
       "      <td>8202.0</td>\n",
       "      <td>Cochin</td>\n",
       "      <td>India</td>\n",
       "      <td>0</td>\n",
       "    </tr>\n",
       "  </tbody>\n",
       "</table>\n",
       "<p>148 rows × 6 columns</p>\n",
       "</div>"
      ],
      "text/plain": [
       "     Company   Age  Salary     Place Country  Gender\n",
       "0        TCS  20.0     NaN   Chennai   India       0\n",
       "1    Infosys  30.0     NaN    Mumbai   India       0\n",
       "2        TCS  35.0  2300.0  Calcutta   India       0\n",
       "3    Infosys  40.0  3000.0     Delhi   India       0\n",
       "4        TCS  23.0  4000.0    Mumbai   India       0\n",
       "..       ...   ...     ...       ...     ...     ...\n",
       "143      TCS  33.0  9024.0  Calcutta   India       1\n",
       "144  Infosys  22.0  8787.0  Calcutta   India       1\n",
       "145  Infosys  44.0  4034.0     Delhi   India       1\n",
       "146      TCS  33.0  5034.0    Mumbai   India       1\n",
       "147  Infosys  22.0  8202.0    Cochin   India       0\n",
       "\n",
       "[148 rows x 6 columns]"
      ]
     },
     "execution_count": 146,
     "metadata": {},
     "output_type": "execute_result"
    }
   ],
   "source": [
    "df"
   ]
  },
  {
   "cell_type": "code",
   "execution_count": 147,
   "id": "5d61a0d6-4046-4734-b206-26a56f7b0934",
   "metadata": {},
   "outputs": [
    {
     "data": {
      "text/plain": [
       "(148, 6)"
      ]
     },
     "execution_count": 147,
     "metadata": {},
     "output_type": "execute_result"
    }
   ],
   "source": [
    "df.shape"
   ]
  },
  {
   "cell_type": "code",
   "execution_count": 148,
   "id": "13314688-83d3-45f5-a9a9-8d9732862d1f",
   "metadata": {},
   "outputs": [
    {
     "name": "stdout",
     "output_type": "stream",
     "text": [
      "<class 'pandas.core.frame.DataFrame'>\n",
      "RangeIndex: 148 entries, 0 to 147\n",
      "Data columns (total 6 columns):\n",
      " #   Column   Non-Null Count  Dtype  \n",
      "---  ------   --------------  -----  \n",
      " 0   Company  140 non-null    object \n",
      " 1   Age      130 non-null    float64\n",
      " 2   Salary   124 non-null    float64\n",
      " 3   Place    134 non-null    object \n",
      " 4   Country  148 non-null    object \n",
      " 5   Gender   148 non-null    int64  \n",
      "dtypes: float64(2), int64(1), object(3)\n",
      "memory usage: 7.1+ KB\n"
     ]
    }
   ],
   "source": [
    "df.info()"
   ]
  },
  {
   "cell_type": "markdown",
   "id": "b8bae672-3072-46eb-9453-fd9a4c586be8",
   "metadata": {},
   "source": [
    "#### Unique values of each feature"
   ]
  },
  {
   "cell_type": "code",
   "execution_count": 149,
   "id": "36bc0250-d5df-4e02-9101-aa2f0d842b97",
   "metadata": {},
   "outputs": [
    {
     "data": {
      "text/plain": [
       "array(['TCS', 'Infosys', 'CTS', nan, 'Tata Consultancy Services',\n",
       "       'Congnizant', 'Infosys Pvt Lmt'], dtype=object)"
      ]
     },
     "execution_count": 149,
     "metadata": {},
     "output_type": "execute_result"
    }
   ],
   "source": [
    "df.Company.unique()"
   ]
  },
  {
   "cell_type": "code",
   "execution_count": 150,
   "id": "e908035f-b54c-4a8d-84db-4661b8272652",
   "metadata": {
    "scrolled": true
   },
   "outputs": [
    {
     "data": {
      "text/plain": [
       "Company\n",
       "TCS                          53\n",
       "Infosys                      45\n",
       "CTS                          36\n",
       "Tata Consultancy Services     2\n",
       "Congnizant                    2\n",
       "Infosys Pvt Lmt               2\n",
       "Name: count, dtype: int64"
      ]
     },
     "execution_count": 150,
     "metadata": {},
     "output_type": "execute_result"
    }
   ],
   "source": [
    "df.Company.value_counts()"
   ]
  },
  {
   "cell_type": "code",
   "execution_count": 151,
   "id": "c286d149-297e-4bf7-b197-01786c820c64",
   "metadata": {},
   "outputs": [],
   "source": [
    "df.Company.replace('TCS','Tata Consultancy Services',inplace=True)\n",
    "df.Company.replace('Infosys','Infosys Pvt Lmt',inplace=True)\n",
    "df.Company.replace('CTS','Congnizant',inplace=True)"
   ]
  },
  {
   "cell_type": "code",
   "execution_count": 152,
   "id": "df08f1d2-fd8c-48f2-9930-3ca166ada3c9",
   "metadata": {},
   "outputs": [
    {
     "data": {
      "text/plain": [
       "array(['Tata Consultancy Services', 'Infosys Pvt Lmt', 'Congnizant', nan],\n",
       "      dtype=object)"
      ]
     },
     "execution_count": 152,
     "metadata": {},
     "output_type": "execute_result"
    }
   ],
   "source": [
    "df.Company.unique()"
   ]
  },
  {
   "cell_type": "code",
   "execution_count": 153,
   "id": "393b72ae-c0bf-4b7a-bda1-b2dafe82e353",
   "metadata": {},
   "outputs": [
    {
     "data": {
      "text/plain": [
       "array([20., 30., 35., 40., 23., nan, 34., 45., 18., 22., 32., 37., 50.,\n",
       "       21., 46., 36., 26., 41., 24., 25., 43., 19., 38., 51., 31., 44.,\n",
       "       33., 17.,  0., 54.])"
      ]
     },
     "execution_count": 153,
     "metadata": {},
     "output_type": "execute_result"
    }
   ],
   "source": [
    "df.Age.unique()"
   ]
  },
  {
   "cell_type": "code",
   "execution_count": 154,
   "id": "26289c68-32a4-495f-89d0-913b647e82b0",
   "metadata": {},
   "outputs": [
    {
     "data": {
      "text/plain": [
       "Age\n",
       "22.0    16\n",
       "33.0    13\n",
       "44.0    10\n",
       "23.0     8\n",
       "34.0     8\n",
       "21.0     8\n",
       "32.0     7\n",
       "35.0     6\n",
       "0.0      6\n",
       "41.0     5\n",
       "45.0     4\n",
       "43.0     4\n",
       "24.0     4\n",
       "20.0     3\n",
       "31.0     3\n",
       "25.0     3\n",
       "36.0     3\n",
       "40.0     3\n",
       "26.0     2\n",
       "30.0     2\n",
       "46.0     2\n",
       "50.0     2\n",
       "37.0     2\n",
       "19.0     1\n",
       "38.0     1\n",
       "51.0     1\n",
       "18.0     1\n",
       "17.0     1\n",
       "54.0     1\n",
       "Name: count, dtype: int64"
      ]
     },
     "execution_count": 154,
     "metadata": {},
     "output_type": "execute_result"
    }
   ],
   "source": [
    "df.Age.value_counts()"
   ]
  },
  {
   "cell_type": "code",
   "execution_count": 155,
   "id": "d748e971-adc8-4648-b0fe-d1ca67e5792d",
   "metadata": {},
   "outputs": [
    {
     "data": {
      "text/plain": [
       "array([  nan, 2300., 3000., 4000., 5000., 6000., 7000., 8000., 9000.,\n",
       "       1089., 1234., 3030., 3045., 3184., 4824., 5835., 7084., 8943.,\n",
       "       8345., 9284., 9876., 2034., 7654., 2934., 4034., 5034., 8202.,\n",
       "       9024., 4345., 6544., 6543., 3234., 4324., 5435., 5555., 8787.,\n",
       "       3454., 5654., 5009., 5098., 3033.])"
      ]
     },
     "execution_count": 155,
     "metadata": {},
     "output_type": "execute_result"
    }
   ],
   "source": [
    "df.Salary.unique()"
   ]
  },
  {
   "cell_type": "code",
   "execution_count": 156,
   "id": "483cfd5d-8221-4b79-83fe-dae5e87882dc",
   "metadata": {},
   "outputs": [
    {
     "data": {
      "text/plain": [
       "Salary\n",
       "3000.0    9\n",
       "5000.0    6\n",
       "8202.0    5\n",
       "5034.0    5\n",
       "4034.0    5\n",
       "2300.0    4\n",
       "5835.0    4\n",
       "8787.0    4\n",
       "9024.0    4\n",
       "2934.0    4\n",
       "9284.0    4\n",
       "8345.0    4\n",
       "8943.0    4\n",
       "7084.0    4\n",
       "2034.0    4\n",
       "4824.0    4\n",
       "3045.0    4\n",
       "3184.0    4\n",
       "1234.0    4\n",
       "1089.0    4\n",
       "9000.0    3\n",
       "6000.0    3\n",
       "7000.0    3\n",
       "8000.0    3\n",
       "3030.0    3\n",
       "4000.0    2\n",
       "7654.0    2\n",
       "9876.0    2\n",
       "3234.0    2\n",
       "5098.0    1\n",
       "5009.0    1\n",
       "5654.0    1\n",
       "3454.0    1\n",
       "4345.0    1\n",
       "5555.0    1\n",
       "5435.0    1\n",
       "4324.0    1\n",
       "6543.0    1\n",
       "6544.0    1\n",
       "3033.0    1\n",
       "Name: count, dtype: int64"
      ]
     },
     "execution_count": 156,
     "metadata": {},
     "output_type": "execute_result"
    }
   ],
   "source": [
    "df.Salary.value_counts()"
   ]
  },
  {
   "cell_type": "code",
   "execution_count": 157,
   "id": "8d5eecaf-7fba-4a0b-a89d-49b9bd614e9d",
   "metadata": {},
   "outputs": [
    {
     "data": {
      "text/plain": [
       "array(['Chennai', 'Mumbai', 'Calcutta', 'Delhi', 'Podicherry', 'Cochin',\n",
       "       nan, 'Noida', 'Hyderabad', 'Bhopal', 'Nagpur', 'Pune'],\n",
       "      dtype=object)"
      ]
     },
     "execution_count": 157,
     "metadata": {},
     "output_type": "execute_result"
    }
   ],
   "source": [
    "df.Place.unique()"
   ]
  },
  {
   "cell_type": "code",
   "execution_count": 158,
   "id": "ea3df4c6-eb6c-4fd0-85a0-f4ef2818dcca",
   "metadata": {},
   "outputs": [
    {
     "data": {
      "text/plain": [
       "Place\n",
       "Mumbai        37\n",
       "Calcutta      33\n",
       "Chennai       14\n",
       "Delhi         14\n",
       "Cochin        13\n",
       "Noida          8\n",
       "Hyderabad      8\n",
       "Podicherry     3\n",
       "Pune           2\n",
       "Bhopal         1\n",
       "Nagpur         1\n",
       "Name: count, dtype: int64"
      ]
     },
     "execution_count": 158,
     "metadata": {},
     "output_type": "execute_result"
    }
   ],
   "source": [
    "df.Place.value_counts()"
   ]
  },
  {
   "cell_type": "code",
   "execution_count": 159,
   "id": "0abfbd6a-0f26-4915-ac9e-3947b73724d6",
   "metadata": {},
   "outputs": [
    {
     "data": {
      "text/plain": [
       "array(['India'], dtype=object)"
      ]
     },
     "execution_count": 159,
     "metadata": {},
     "output_type": "execute_result"
    }
   ],
   "source": [
    "df.Country.unique()"
   ]
  },
  {
   "cell_type": "code",
   "execution_count": 160,
   "id": "1eb6f370-77a6-4379-9792-bf0e3db46e4d",
   "metadata": {},
   "outputs": [
    {
     "data": {
      "text/plain": [
       "Country\n",
       "India    148\n",
       "Name: count, dtype: int64"
      ]
     },
     "execution_count": 160,
     "metadata": {},
     "output_type": "execute_result"
    }
   ],
   "source": [
    "df.Country.value_counts()"
   ]
  },
  {
   "cell_type": "code",
   "execution_count": 161,
   "id": "d0ccd723-1696-4921-b02b-4021cb92bb37",
   "metadata": {},
   "outputs": [
    {
     "data": {
      "text/plain": [
       "array([0, 1], dtype=int64)"
      ]
     },
     "execution_count": 161,
     "metadata": {},
     "output_type": "execute_result"
    }
   ],
   "source": [
    "df.Gender.unique()"
   ]
  },
  {
   "cell_type": "code",
   "execution_count": 162,
   "id": "0fc78f6a-81ba-466e-b379-2cab77d31b80",
   "metadata": {},
   "outputs": [
    {
     "data": {
      "text/plain": [
       "Gender\n",
       "0    115\n",
       "1     33\n",
       "Name: count, dtype: int64"
      ]
     },
     "execution_count": 162,
     "metadata": {},
     "output_type": "execute_result"
    }
   ],
   "source": [
    "df.Gender.value_counts()"
   ]
  },
  {
   "cell_type": "markdown",
   "id": "c55ad986-5fc3-4ef1-8e66-b08c736cbe32",
   "metadata": {},
   "source": [
    "### Statistical analysis\n"
   ]
  },
  {
   "cell_type": "code",
   "execution_count": 163,
   "id": "c651917a-e3b2-49cd-a5fa-07ee2b2d9625",
   "metadata": {},
   "outputs": [
    {
     "data": {
      "text/html": [
       "<div>\n",
       "<style scoped>\n",
       "    .dataframe tbody tr th:only-of-type {\n",
       "        vertical-align: middle;\n",
       "    }\n",
       "\n",
       "    .dataframe tbody tr th {\n",
       "        vertical-align: top;\n",
       "    }\n",
       "\n",
       "    .dataframe thead th {\n",
       "        text-align: right;\n",
       "    }\n",
       "</style>\n",
       "<table border=\"1\" class=\"dataframe\">\n",
       "  <thead>\n",
       "    <tr style=\"text-align: right;\">\n",
       "      <th></th>\n",
       "      <th>Age</th>\n",
       "      <th>Salary</th>\n",
       "      <th>Gender</th>\n",
       "    </tr>\n",
       "  </thead>\n",
       "  <tbody>\n",
       "    <tr>\n",
       "      <th>count</th>\n",
       "      <td>130.000000</td>\n",
       "      <td>124.000000</td>\n",
       "      <td>148.000000</td>\n",
       "    </tr>\n",
       "    <tr>\n",
       "      <th>mean</th>\n",
       "      <td>30.484615</td>\n",
       "      <td>5312.467742</td>\n",
       "      <td>0.222973</td>\n",
       "    </tr>\n",
       "    <tr>\n",
       "      <th>std</th>\n",
       "      <td>11.096640</td>\n",
       "      <td>2573.764683</td>\n",
       "      <td>0.417654</td>\n",
       "    </tr>\n",
       "    <tr>\n",
       "      <th>min</th>\n",
       "      <td>0.000000</td>\n",
       "      <td>1089.000000</td>\n",
       "      <td>0.000000</td>\n",
       "    </tr>\n",
       "    <tr>\n",
       "      <th>25%</th>\n",
       "      <td>22.000000</td>\n",
       "      <td>3030.000000</td>\n",
       "      <td>0.000000</td>\n",
       "    </tr>\n",
       "    <tr>\n",
       "      <th>50%</th>\n",
       "      <td>32.500000</td>\n",
       "      <td>5000.000000</td>\n",
       "      <td>0.000000</td>\n",
       "    </tr>\n",
       "    <tr>\n",
       "      <th>75%</th>\n",
       "      <td>37.750000</td>\n",
       "      <td>8000.000000</td>\n",
       "      <td>0.000000</td>\n",
       "    </tr>\n",
       "    <tr>\n",
       "      <th>max</th>\n",
       "      <td>54.000000</td>\n",
       "      <td>9876.000000</td>\n",
       "      <td>1.000000</td>\n",
       "    </tr>\n",
       "  </tbody>\n",
       "</table>\n",
       "</div>"
      ],
      "text/plain": [
       "              Age       Salary      Gender\n",
       "count  130.000000   124.000000  148.000000\n",
       "mean    30.484615  5312.467742    0.222973\n",
       "std     11.096640  2573.764683    0.417654\n",
       "min      0.000000  1089.000000    0.000000\n",
       "25%     22.000000  3030.000000    0.000000\n",
       "50%     32.500000  5000.000000    0.000000\n",
       "75%     37.750000  8000.000000    0.000000\n",
       "max     54.000000  9876.000000    1.000000"
      ]
     },
     "execution_count": 163,
     "metadata": {},
     "output_type": "execute_result"
    }
   ],
   "source": [
    "df.describe()"
   ]
  },
  {
   "cell_type": "markdown",
   "id": "468d406a-7eba-4481-ac96-360ba238b8cc",
   "metadata": {},
   "source": [
    "## Data Cleaning"
   ]
  },
  {
   "cell_type": "code",
   "execution_count": 164,
   "id": "d95b60dd-586d-4f9a-a0f4-04fd6b9fd2f8",
   "metadata": {},
   "outputs": [
    {
     "data": {
      "text/plain": [
       "4"
      ]
     },
     "execution_count": 164,
     "metadata": {},
     "output_type": "execute_result"
    }
   ],
   "source": [
    "df.duplicated().sum()"
   ]
  },
  {
   "cell_type": "code",
   "execution_count": 165,
   "id": "2bf8862f-2f1e-47e9-8a3c-d814c31785e1",
   "metadata": {},
   "outputs": [],
   "source": [
    "#Removing all duplicate rows\n",
    "df.drop_duplicates(inplace=True)"
   ]
  },
  {
   "cell_type": "code",
   "execution_count": 166,
   "id": "ee804341-f25e-4c53-b9df-f0e9f3643c6f",
   "metadata": {},
   "outputs": [
    {
     "data": {
      "text/plain": [
       "(144, 6)"
      ]
     },
     "execution_count": 166,
     "metadata": {},
     "output_type": "execute_result"
    }
   ],
   "source": [
    "df.shape"
   ]
  },
  {
   "cell_type": "code",
   "execution_count": 167,
   "id": "5776a57b-3247-44d4-a8dd-bf0cf13a2ad8",
   "metadata": {},
   "outputs": [
    {
     "data": {
      "text/plain": [
       "Company     8\n",
       "Age        17\n",
       "Salary     23\n",
       "Place      14\n",
       "Country     0\n",
       "Gender      0\n",
       "dtype: int64"
      ]
     },
     "execution_count": 167,
     "metadata": {},
     "output_type": "execute_result"
    }
   ],
   "source": [
    "#Find the missing  values\n",
    "df.isnull().sum()"
   ]
  },
  {
   "cell_type": "markdown",
   "id": "a49324da-17b7-4ce1-98b5-42d3c2497933",
   "metadata": {},
   "source": [
    "##### columns Company,Age,Salary,Place has missing values"
   ]
  },
  {
   "cell_type": "raw",
   "id": "c7d7ddaa-d892-4418-b265-122438487723",
   "metadata": {},
   "source": [
    "Handling Age column"
   ]
  },
  {
   "cell_type": "code",
   "execution_count": 168,
   "id": "2085d7d5-2aa9-47e5-9849-63e9326729cc",
   "metadata": {},
   "outputs": [
    {
     "data": {
      "text/html": [
       "<div>\n",
       "<style scoped>\n",
       "    .dataframe tbody tr th:only-of-type {\n",
       "        vertical-align: middle;\n",
       "    }\n",
       "\n",
       "    .dataframe tbody tr th {\n",
       "        vertical-align: top;\n",
       "    }\n",
       "\n",
       "    .dataframe thead th {\n",
       "        text-align: right;\n",
       "    }\n",
       "</style>\n",
       "<table border=\"1\" class=\"dataframe\">\n",
       "  <thead>\n",
       "    <tr style=\"text-align: right;\">\n",
       "      <th></th>\n",
       "      <th>Company</th>\n",
       "      <th>Age</th>\n",
       "      <th>Salary</th>\n",
       "      <th>Place</th>\n",
       "      <th>Country</th>\n",
       "      <th>Gender</th>\n",
       "    </tr>\n",
       "  </thead>\n",
       "  <tbody>\n",
       "    <tr>\n",
       "      <th>88</th>\n",
       "      <td>Infosys Pvt Lmt</td>\n",
       "      <td>0.0</td>\n",
       "      <td>3030.0</td>\n",
       "      <td>Calcutta</td>\n",
       "      <td>India</td>\n",
       "      <td>0</td>\n",
       "    </tr>\n",
       "    <tr>\n",
       "      <th>92</th>\n",
       "      <td>Tata Consultancy Services</td>\n",
       "      <td>0.0</td>\n",
       "      <td>3045.0</td>\n",
       "      <td>Delhi</td>\n",
       "      <td>India</td>\n",
       "      <td>0</td>\n",
       "    </tr>\n",
       "    <tr>\n",
       "      <th>101</th>\n",
       "      <td>Congnizant</td>\n",
       "      <td>0.0</td>\n",
       "      <td>2034.0</td>\n",
       "      <td>Podicherry</td>\n",
       "      <td>India</td>\n",
       "      <td>0</td>\n",
       "    </tr>\n",
       "    <tr>\n",
       "      <th>107</th>\n",
       "      <td>Tata Consultancy Services</td>\n",
       "      <td>0.0</td>\n",
       "      <td>9024.0</td>\n",
       "      <td>Chennai</td>\n",
       "      <td>India</td>\n",
       "      <td>1</td>\n",
       "    </tr>\n",
       "    <tr>\n",
       "      <th>111</th>\n",
       "      <td>Infosys Pvt Lmt</td>\n",
       "      <td>0.0</td>\n",
       "      <td>3234.0</td>\n",
       "      <td>Mumbai</td>\n",
       "      <td>India</td>\n",
       "      <td>0</td>\n",
       "    </tr>\n",
       "    <tr>\n",
       "      <th>121</th>\n",
       "      <td>Congnizant</td>\n",
       "      <td>0.0</td>\n",
       "      <td>1234.0</td>\n",
       "      <td>Calcutta</td>\n",
       "      <td>India</td>\n",
       "      <td>0</td>\n",
       "    </tr>\n",
       "  </tbody>\n",
       "</table>\n",
       "</div>"
      ],
      "text/plain": [
       "                       Company  Age  Salary       Place Country  Gender\n",
       "88             Infosys Pvt Lmt  0.0  3030.0    Calcutta   India       0\n",
       "92   Tata Consultancy Services  0.0  3045.0       Delhi   India       0\n",
       "101                 Congnizant  0.0  2034.0  Podicherry   India       0\n",
       "107  Tata Consultancy Services  0.0  9024.0     Chennai   India       1\n",
       "111            Infosys Pvt Lmt  0.0  3234.0      Mumbai   India       0\n",
       "121                 Congnizant  0.0  1234.0    Calcutta   India       0"
      ]
     },
     "execution_count": 168,
     "metadata": {},
     "output_type": "execute_result"
    }
   ],
   "source": [
    "df[df['Age']==0]"
   ]
  },
  {
   "cell_type": "code",
   "execution_count": 169,
   "id": "c043b669-7b1a-4744-bb40-dc8c22f65f11",
   "metadata": {},
   "outputs": [],
   "source": [
    "df['Age'].replace(0,np.nan,inplace=True)"
   ]
  },
  {
   "cell_type": "code",
   "execution_count": 170,
   "id": "a719a508-0d76-4e2e-b8dd-3211fe1a9530",
   "metadata": {},
   "outputs": [
    {
     "data": {
      "text/plain": [
       "Company     8\n",
       "Age        23\n",
       "Salary     23\n",
       "Place      14\n",
       "Country     0\n",
       "Gender      0\n",
       "dtype: int64"
      ]
     },
     "execution_count": 170,
     "metadata": {},
     "output_type": "execute_result"
    }
   ],
   "source": [
    "df.isna().sum()"
   ]
  },
  {
   "cell_type": "code",
   "execution_count": 171,
   "id": "ad250e81-7117-4624-a16a-8914f83a2246",
   "metadata": {},
   "outputs": [
    {
     "data": {
      "text/plain": [
       "32.04132231404959"
      ]
     },
     "execution_count": 171,
     "metadata": {},
     "output_type": "execute_result"
    }
   ],
   "source": [
    "mean=df['Age'].mean()\n",
    "mean"
   ]
  },
  {
   "cell_type": "code",
   "execution_count": 172,
   "id": "e5cbaaf3-cc0c-474c-80d8-f8ba0ecc4793",
   "metadata": {},
   "outputs": [],
   "source": [
    "df['Age'].fillna(mean,inplace=True)"
   ]
  },
  {
   "cell_type": "code",
   "execution_count": 173,
   "id": "af65cc4d-9d46-4bd4-8495-dad18633bfe6",
   "metadata": {},
   "outputs": [
    {
     "data": {
      "text/plain": [
       "False"
      ]
     },
     "execution_count": 173,
     "metadata": {},
     "output_type": "execute_result"
    }
   ],
   "source": [
    "df['Age'].isnull().any()"
   ]
  },
  {
   "cell_type": "raw",
   "id": "063f7604-4d17-42c9-9dd2-7b39e7e28600",
   "metadata": {},
   "source": [
    "Handling Salary column"
   ]
  },
  {
   "cell_type": "code",
   "execution_count": 174,
   "id": "1dd9b882-1dab-4862-a7ef-42f65b833137",
   "metadata": {},
   "outputs": [
    {
     "data": {
      "text/plain": [
       "Company     8\n",
       "Age         0\n",
       "Salary     23\n",
       "Place      14\n",
       "Country     0\n",
       "Gender      0\n",
       "dtype: int64"
      ]
     },
     "execution_count": 174,
     "metadata": {},
     "output_type": "execute_result"
    }
   ],
   "source": [
    "df.isna().sum()"
   ]
  },
  {
   "cell_type": "code",
   "execution_count": 175,
   "id": "acc9ca18-0568-45eb-873f-3b0e0d73ec29",
   "metadata": {},
   "outputs": [],
   "source": [
    "#filling missing values of Salary with the mean value\n",
    "salary_mean=df['Salary'].mean()\n",
    "df['Salary'].fillna(salary_mean,inplace=True)"
   ]
  },
  {
   "cell_type": "code",
   "execution_count": 176,
   "id": "9120d142-a788-4958-8447-6a70b3839f63",
   "metadata": {},
   "outputs": [
    {
     "data": {
      "text/plain": [
       "Company     8\n",
       "Age         0\n",
       "Salary      0\n",
       "Place      14\n",
       "Country     0\n",
       "Gender      0\n",
       "dtype: int64"
      ]
     },
     "execution_count": 176,
     "metadata": {},
     "output_type": "execute_result"
    }
   ],
   "source": [
    "df.isna().sum()"
   ]
  },
  {
   "cell_type": "code",
   "execution_count": 177,
   "id": "9c1897de-a300-4a20-a6b9-910f6dc7effb",
   "metadata": {},
   "outputs": [
    {
     "data": {
      "text/plain": [
       "False"
      ]
     },
     "execution_count": 177,
     "metadata": {},
     "output_type": "execute_result"
    }
   ],
   "source": [
    "df['Salary'].isnull().any()"
   ]
  },
  {
   "cell_type": "raw",
   "id": "ee2770f3-dfd2-4add-bf0b-e3f967bb26f9",
   "metadata": {},
   "source": [
    "Handling Company column"
   ]
  },
  {
   "cell_type": "code",
   "execution_count": 178,
   "id": "0823e46c-f814-4871-a57d-1528530bd109",
   "metadata": {},
   "outputs": [
    {
     "data": {
      "text/plain": [
       "'Tata Consultancy Services'"
      ]
     },
     "execution_count": 178,
     "metadata": {},
     "output_type": "execute_result"
    }
   ],
   "source": [
    "#filling missing values of Company with the mode\n",
    "df['Company'].mode()[0]"
   ]
  },
  {
   "cell_type": "code",
   "execution_count": 179,
   "id": "692c50ae-7baa-4d8e-b9bf-0a2071e4e87c",
   "metadata": {},
   "outputs": [],
   "source": [
    "#Replacing null 'company' values with 'the most frequent company name'\n",
    "df['Company'].fillna(df['Company'].mode()[0],inplace=True)"
   ]
  },
  {
   "cell_type": "code",
   "execution_count": 180,
   "id": "bf78d43d-a882-4e51-86ed-0067a1be5ee2",
   "metadata": {},
   "outputs": [
    {
     "data": {
      "text/plain": [
       "False"
      ]
     },
     "execution_count": 180,
     "metadata": {},
     "output_type": "execute_result"
    }
   ],
   "source": [
    "df['Company'].isnull().any()"
   ]
  },
  {
   "cell_type": "raw",
   "id": "b855f27a-55c6-4252-820b-04ff4ef48492",
   "metadata": {},
   "source": [
    "Handling Place column"
   ]
  },
  {
   "cell_type": "code",
   "execution_count": 181,
   "id": "6a1b8a92-39e8-42c0-addf-8d959bd57df6",
   "metadata": {},
   "outputs": [
    {
     "data": {
      "text/plain": [
       "'Mumbai'"
      ]
     },
     "execution_count": 181,
     "metadata": {},
     "output_type": "execute_result"
    }
   ],
   "source": [
    "#filling missing values of Company with the mode\n",
    "df['Place'].mode()[0]"
   ]
  },
  {
   "cell_type": "code",
   "execution_count": 182,
   "id": "5708e6c8-2619-42db-acd7-80d269f7e068",
   "metadata": {},
   "outputs": [],
   "source": [
    "#Replacing null 'company' values with 'the most frequent company name'\n",
    "df['Place'].fillna(df['Place'].mode()[0],inplace=True)"
   ]
  },
  {
   "cell_type": "code",
   "execution_count": 183,
   "id": "3e8ac11f-d605-4b5d-a0db-ee4fbd275405",
   "metadata": {},
   "outputs": [
    {
     "data": {
      "text/plain": [
       "Company    0\n",
       "Age        0\n",
       "Salary     0\n",
       "Place      0\n",
       "Country    0\n",
       "Gender     0\n",
       "dtype: int64"
      ]
     },
     "execution_count": 183,
     "metadata": {},
     "output_type": "execute_result"
    }
   ],
   "source": [
    "df.isnull().sum()"
   ]
  },
  {
   "cell_type": "markdown",
   "id": "8ba4b5dc-b468-4c7e-8581-af43e9824434",
   "metadata": {},
   "source": [
    "### All null values are replaced properly"
   ]
  },
  {
   "cell_type": "code",
   "execution_count": 184,
   "id": "5a220436-e836-47f4-977c-e9e752808f77",
   "metadata": {},
   "outputs": [],
   "source": [
    "#Finding outliers in Age and Salary using IQR method"
   ]
  },
  {
   "cell_type": "code",
   "execution_count": 185,
   "id": "876f5ad8-be14-4ced-bb1d-0d6e2da245f3",
   "metadata": {},
   "outputs": [
    {
     "data": {
      "text/plain": [
       "23.75"
      ]
     },
     "execution_count": 185,
     "metadata": {},
     "output_type": "execute_result"
    }
   ],
   "source": [
    "q1=df.Age.quantile(0.25)\n",
    "q1"
   ]
  },
  {
   "cell_type": "code",
   "execution_count": 186,
   "id": "66465b76-c631-4643-b24c-410eb7b1a84f",
   "metadata": {},
   "outputs": [
    {
     "data": {
      "text/plain": [
       "36.0"
      ]
     },
     "execution_count": 186,
     "metadata": {},
     "output_type": "execute_result"
    }
   ],
   "source": [
    "q3=df.Age.quantile(0.75)\n",
    "q3"
   ]
  },
  {
   "cell_type": "code",
   "execution_count": 187,
   "id": "72185e17-3c99-4144-9524-da42788d6e66",
   "metadata": {},
   "outputs": [
    {
     "data": {
      "text/plain": [
       "12.25"
      ]
     },
     "execution_count": 187,
     "metadata": {},
     "output_type": "execute_result"
    }
   ],
   "source": [
    "iqr=q3-q1\n",
    "iqr"
   ]
  },
  {
   "cell_type": "code",
   "execution_count": 188,
   "id": "582c2f41-78bc-412c-b420-945acfa1776a",
   "metadata": {},
   "outputs": [
    {
     "data": {
      "text/plain": [
       "(5.375, 54.375)"
      ]
     },
     "execution_count": 188,
     "metadata": {},
     "output_type": "execute_result"
    }
   ],
   "source": [
    "lower=q1-1.5*iqr\n",
    "upper=q3+1.5*iqr\n",
    "lower,upper"
   ]
  },
  {
   "cell_type": "code",
   "execution_count": 189,
   "id": "6e5f647e-14f4-42b6-8f95-238a26b0530c",
   "metadata": {},
   "outputs": [
    {
     "data": {
      "text/html": [
       "<div>\n",
       "<style scoped>\n",
       "    .dataframe tbody tr th:only-of-type {\n",
       "        vertical-align: middle;\n",
       "    }\n",
       "\n",
       "    .dataframe tbody tr th {\n",
       "        vertical-align: top;\n",
       "    }\n",
       "\n",
       "    .dataframe thead th {\n",
       "        text-align: right;\n",
       "    }\n",
       "</style>\n",
       "<table border=\"1\" class=\"dataframe\">\n",
       "  <thead>\n",
       "    <tr style=\"text-align: right;\">\n",
       "      <th></th>\n",
       "      <th>Company</th>\n",
       "      <th>Age</th>\n",
       "      <th>Salary</th>\n",
       "      <th>Place</th>\n",
       "      <th>Country</th>\n",
       "      <th>Gender</th>\n",
       "    </tr>\n",
       "  </thead>\n",
       "  <tbody>\n",
       "  </tbody>\n",
       "</table>\n",
       "</div>"
      ],
      "text/plain": [
       "Empty DataFrame\n",
       "Columns: [Company, Age, Salary, Place, Country, Gender]\n",
       "Index: []"
      ]
     },
     "execution_count": 189,
     "metadata": {},
     "output_type": "execute_result"
    }
   ],
   "source": [
    "#outliers in age\n",
    "df[(df.Age<5.375) &(df.Age>54.375)]"
   ]
  },
  {
   "cell_type": "code",
   "execution_count": 190,
   "id": "f9a6f0e5-1305-4482-ba35-4676587e6a7a",
   "metadata": {},
   "outputs": [
    {
     "data": {
      "text/plain": [
       "3045.0"
      ]
     },
     "execution_count": 190,
     "metadata": {},
     "output_type": "execute_result"
    }
   ],
   "source": [
    "q1=df.Salary.quantile(0.25)\n",
    "q1"
   ]
  },
  {
   "cell_type": "code",
   "execution_count": 191,
   "id": "a6fe3fb1-2642-4cbc-8124-1821717c5f1f",
   "metadata": {},
   "outputs": [
    {
     "data": {
      "text/plain": [
       "7084.0"
      ]
     },
     "execution_count": 191,
     "metadata": {},
     "output_type": "execute_result"
    }
   ],
   "source": [
    "q3=df.Salary.quantile(0.75)\n",
    "q3"
   ]
  },
  {
   "cell_type": "code",
   "execution_count": 192,
   "id": "c83e67c4-b4f2-4873-abba-f7daa57a709a",
   "metadata": {},
   "outputs": [
    {
     "data": {
      "text/plain": [
       "4039.0"
      ]
     },
     "execution_count": 192,
     "metadata": {},
     "output_type": "execute_result"
    }
   ],
   "source": [
    "iqr=q3-q1\n",
    "iqr"
   ]
  },
  {
   "cell_type": "code",
   "execution_count": 193,
   "id": "a1e3e105-82ff-44de-9f69-6b8da027af74",
   "metadata": {},
   "outputs": [
    {
     "data": {
      "text/plain": [
       "(-3013.5, 13142.5)"
      ]
     },
     "execution_count": 193,
     "metadata": {},
     "output_type": "execute_result"
    }
   ],
   "source": [
    "lower=q1-1.5*iqr\n",
    "upper=q3+1.5*iqr\n",
    "lower,upper"
   ]
  },
  {
   "cell_type": "code",
   "execution_count": 194,
   "id": "7519ff7a-a02b-451b-b3b7-44737011a89c",
   "metadata": {},
   "outputs": [
    {
     "data": {
      "text/html": [
       "<div>\n",
       "<style scoped>\n",
       "    .dataframe tbody tr th:only-of-type {\n",
       "        vertical-align: middle;\n",
       "    }\n",
       "\n",
       "    .dataframe tbody tr th {\n",
       "        vertical-align: top;\n",
       "    }\n",
       "\n",
       "    .dataframe thead th {\n",
       "        text-align: right;\n",
       "    }\n",
       "</style>\n",
       "<table border=\"1\" class=\"dataframe\">\n",
       "  <thead>\n",
       "    <tr style=\"text-align: right;\">\n",
       "      <th></th>\n",
       "      <th>Company</th>\n",
       "      <th>Age</th>\n",
       "      <th>Salary</th>\n",
       "      <th>Place</th>\n",
       "      <th>Country</th>\n",
       "      <th>Gender</th>\n",
       "    </tr>\n",
       "  </thead>\n",
       "  <tbody>\n",
       "  </tbody>\n",
       "</table>\n",
       "</div>"
      ],
      "text/plain": [
       "Empty DataFrame\n",
       "Columns: [Company, Age, Salary, Place, Country, Gender]\n",
       "Index: []"
      ]
     },
     "execution_count": 194,
     "metadata": {},
     "output_type": "execute_result"
    }
   ],
   "source": [
    "#outliers in age\n",
    "df[(df.Salary<-3013.5) &(df.Salary>13142.5)]"
   ]
  },
  {
   "cell_type": "raw",
   "id": "09611626-053a-4470-b640-62021b1ad789",
   "metadata": {},
   "source": [
    "No  outliers in age and Salary\n",
    "The dataset is cleaned"
   ]
  },
  {
   "cell_type": "markdown",
   "id": "9e789fc5-334f-4efa-9d48-a0064b9cb56e",
   "metadata": {},
   "source": [
    "### Data Analysis"
   ]
  },
  {
   "cell_type": "markdown",
   "id": "26568af2-58d4-4e9d-b6b4-d3235b184535",
   "metadata": {},
   "source": [
    "#### (1) Filtering the data with age >40 and salary<5000"
   ]
  },
  {
   "cell_type": "code",
   "execution_count": 195,
   "id": "8c8ea982-c2a2-4c2d-ac6b-0590dca4c14b",
   "metadata": {},
   "outputs": [
    {
     "data": {
      "text/html": [
       "<div>\n",
       "<style scoped>\n",
       "    .dataframe tbody tr th:only-of-type {\n",
       "        vertical-align: middle;\n",
       "    }\n",
       "\n",
       "    .dataframe tbody tr th {\n",
       "        vertical-align: top;\n",
       "    }\n",
       "\n",
       "    .dataframe thead th {\n",
       "        text-align: right;\n",
       "    }\n",
       "</style>\n",
       "<table border=\"1\" class=\"dataframe\">\n",
       "  <thead>\n",
       "    <tr style=\"text-align: right;\">\n",
       "      <th></th>\n",
       "      <th>Company</th>\n",
       "      <th>Age</th>\n",
       "      <th>Salary</th>\n",
       "      <th>Place</th>\n",
       "      <th>Country</th>\n",
       "      <th>Gender</th>\n",
       "    </tr>\n",
       "  </thead>\n",
       "  <tbody>\n",
       "    <tr>\n",
       "      <th>21</th>\n",
       "      <td>Infosys Pvt Lmt</td>\n",
       "      <td>50.0</td>\n",
       "      <td>3184.0</td>\n",
       "      <td>Delhi</td>\n",
       "      <td>India</td>\n",
       "      <td>0</td>\n",
       "    </tr>\n",
       "    <tr>\n",
       "      <th>32</th>\n",
       "      <td>Infosys Pvt Lmt</td>\n",
       "      <td>45.0</td>\n",
       "      <td>4034.0</td>\n",
       "      <td>Calcutta</td>\n",
       "      <td>India</td>\n",
       "      <td>0</td>\n",
       "    </tr>\n",
       "    <tr>\n",
       "      <th>39</th>\n",
       "      <td>Infosys Pvt Lmt</td>\n",
       "      <td>41.0</td>\n",
       "      <td>3000.0</td>\n",
       "      <td>Mumbai</td>\n",
       "      <td>India</td>\n",
       "      <td>0</td>\n",
       "    </tr>\n",
       "    <tr>\n",
       "      <th>50</th>\n",
       "      <td>Infosys Pvt Lmt</td>\n",
       "      <td>41.0</td>\n",
       "      <td>3000.0</td>\n",
       "      <td>Chennai</td>\n",
       "      <td>India</td>\n",
       "      <td>0</td>\n",
       "    </tr>\n",
       "    <tr>\n",
       "      <th>57</th>\n",
       "      <td>Infosys Pvt Lmt</td>\n",
       "      <td>51.0</td>\n",
       "      <td>3184.0</td>\n",
       "      <td>Hyderabad</td>\n",
       "      <td>India</td>\n",
       "      <td>0</td>\n",
       "    </tr>\n",
       "    <tr>\n",
       "      <th>68</th>\n",
       "      <td>Infosys Pvt Lmt</td>\n",
       "      <td>43.0</td>\n",
       "      <td>4034.0</td>\n",
       "      <td>Mumbai</td>\n",
       "      <td>India</td>\n",
       "      <td>0</td>\n",
       "    </tr>\n",
       "    <tr>\n",
       "      <th>75</th>\n",
       "      <td>Infosys Pvt Lmt</td>\n",
       "      <td>44.0</td>\n",
       "      <td>3000.0</td>\n",
       "      <td>Cochin</td>\n",
       "      <td>India</td>\n",
       "      <td>0</td>\n",
       "    </tr>\n",
       "    <tr>\n",
       "      <th>86</th>\n",
       "      <td>Infosys Pvt Lmt</td>\n",
       "      <td>41.0</td>\n",
       "      <td>3000.0</td>\n",
       "      <td>Delhi</td>\n",
       "      <td>India</td>\n",
       "      <td>0</td>\n",
       "    </tr>\n",
       "    <tr>\n",
       "      <th>93</th>\n",
       "      <td>Infosys Pvt Lmt</td>\n",
       "      <td>54.0</td>\n",
       "      <td>3184.0</td>\n",
       "      <td>Mumbai</td>\n",
       "      <td>India</td>\n",
       "      <td>0</td>\n",
       "    </tr>\n",
       "    <tr>\n",
       "      <th>104</th>\n",
       "      <td>Infosys Pvt Lmt</td>\n",
       "      <td>44.0</td>\n",
       "      <td>4034.0</td>\n",
       "      <td>Delhi</td>\n",
       "      <td>India</td>\n",
       "      <td>0</td>\n",
       "    </tr>\n",
       "    <tr>\n",
       "      <th>122</th>\n",
       "      <td>Infosys Pvt Lmt</td>\n",
       "      <td>44.0</td>\n",
       "      <td>3234.0</td>\n",
       "      <td>Mumbai</td>\n",
       "      <td>India</td>\n",
       "      <td>0</td>\n",
       "    </tr>\n",
       "    <tr>\n",
       "      <th>129</th>\n",
       "      <td>Infosys Pvt Lmt</td>\n",
       "      <td>50.0</td>\n",
       "      <td>3184.0</td>\n",
       "      <td>Calcutta</td>\n",
       "      <td>India</td>\n",
       "      <td>0</td>\n",
       "    </tr>\n",
       "    <tr>\n",
       "      <th>138</th>\n",
       "      <td>Congnizant</td>\n",
       "      <td>44.0</td>\n",
       "      <td>3033.0</td>\n",
       "      <td>Cochin</td>\n",
       "      <td>India</td>\n",
       "      <td>0</td>\n",
       "    </tr>\n",
       "    <tr>\n",
       "      <th>140</th>\n",
       "      <td>Infosys Pvt Lmt</td>\n",
       "      <td>44.0</td>\n",
       "      <td>4034.0</td>\n",
       "      <td>Hyderabad</td>\n",
       "      <td>India</td>\n",
       "      <td>0</td>\n",
       "    </tr>\n",
       "    <tr>\n",
       "      <th>145</th>\n",
       "      <td>Infosys Pvt Lmt</td>\n",
       "      <td>44.0</td>\n",
       "      <td>4034.0</td>\n",
       "      <td>Delhi</td>\n",
       "      <td>India</td>\n",
       "      <td>1</td>\n",
       "    </tr>\n",
       "  </tbody>\n",
       "</table>\n",
       "</div>"
      ],
      "text/plain": [
       "             Company   Age  Salary      Place Country  Gender\n",
       "21   Infosys Pvt Lmt  50.0  3184.0      Delhi   India       0\n",
       "32   Infosys Pvt Lmt  45.0  4034.0   Calcutta   India       0\n",
       "39   Infosys Pvt Lmt  41.0  3000.0     Mumbai   India       0\n",
       "50   Infosys Pvt Lmt  41.0  3000.0    Chennai   India       0\n",
       "57   Infosys Pvt Lmt  51.0  3184.0  Hyderabad   India       0\n",
       "68   Infosys Pvt Lmt  43.0  4034.0     Mumbai   India       0\n",
       "75   Infosys Pvt Lmt  44.0  3000.0     Cochin   India       0\n",
       "86   Infosys Pvt Lmt  41.0  3000.0      Delhi   India       0\n",
       "93   Infosys Pvt Lmt  54.0  3184.0     Mumbai   India       0\n",
       "104  Infosys Pvt Lmt  44.0  4034.0      Delhi   India       0\n",
       "122  Infosys Pvt Lmt  44.0  3234.0     Mumbai   India       0\n",
       "129  Infosys Pvt Lmt  50.0  3184.0   Calcutta   India       0\n",
       "138       Congnizant  44.0  3033.0     Cochin   India       0\n",
       "140  Infosys Pvt Lmt  44.0  4034.0  Hyderabad   India       0\n",
       "145  Infosys Pvt Lmt  44.0  4034.0      Delhi   India       1"
      ]
     },
     "execution_count": 195,
     "metadata": {},
     "output_type": "execute_result"
    }
   ],
   "source": [
    "df[((df.Age)>40) & ((df.Salary)<5000)]"
   ]
  },
  {
   "cell_type": "markdown",
   "id": "d0b10faa-d2d3-4227-bc36-5eb744cf84c8",
   "metadata": {},
   "source": [
    "### (2) Plot the chart with age and salary"
   ]
  },
  {
   "cell_type": "code",
   "execution_count": 196,
   "id": "4667affa-c22c-4b09-b8ee-d0702795685a",
   "metadata": {},
   "outputs": [
    {
     "data": {
      "image/png": "[encoded data removed]",
      "text/plain": [
       "<Figure size 640x480 with 1 Axes>"
      ]
     },
     "metadata": {},
     "output_type": "display_data"
    }
   ],
   "source": [
    "plt.scatter(df.Age, df.Salary,color='teal')\n",
    "plt.xlabel('Age')\n",
    "plt.ylabel('Salary')\n",
    "plt.title('Age v/s Salary')\n",
    "plt.show()"
   ]
  },
  {
   "cell_type": "markdown",
   "id": "036e54e9-508f-498f-9a1c-2447c186719d",
   "metadata": {},
   "source": [
    "### (3) Count the number of people from each place and represent it visually"
   ]
  },
  {
   "cell_type": "code",
   "execution_count": 197,
   "id": "5a9c9aea-b0d5-40b2-a92d-c9c1d7a415b6",
   "metadata": {},
   "outputs": [
    {
     "data": {
      "text/plain": [
       "array(['Chennai', 'Mumbai', 'Calcutta', 'Delhi', 'Podicherry', 'Cochin',\n",
       "       'Noida', 'Hyderabad', 'Bhopal', 'Nagpur', 'Pune'], dtype=object)"
      ]
     },
     "execution_count": 197,
     "metadata": {},
     "output_type": "execute_result"
    }
   ],
   "source": [
    "place=df.Place.unique()\n",
    "place"
   ]
  },
  {
   "cell_type": "code",
   "execution_count": 198,
   "id": "d3381ba6-2f48-4e3a-90ee-4f675e0c238c",
   "metadata": {},
   "outputs": [
    {
     "data": {
      "text/plain": [
       "Place\n",
       "Mumbai        48\n",
       "Calcutta      32\n",
       "Chennai       14\n",
       "Delhi         14\n",
       "Cochin        13\n",
       "Noida          8\n",
       "Hyderabad      8\n",
       "Podicherry     3\n",
       "Pune           2\n",
       "Bhopal         1\n",
       "Nagpur         1\n",
       "Name: count, dtype: int64"
      ]
     },
     "execution_count": 198,
     "metadata": {},
     "output_type": "execute_result"
    }
   ],
   "source": [
    "placecount=df.Place.value_counts()\n",
    "placecount"
   ]
  },
  {
   "cell_type": "code",
   "execution_count": 199,
   "id": "07440e57-c767-4509-8d44-06530ca21918",
   "metadata": {},
   "outputs": [
    {
     "data": {
      "image/png": "[encoded data removed]",
      "text/plain": [
       "<Figure size 640x480 with 1 Axes>"
      ]
     },
     "metadata": {},
     "output_type": "display_data"
    }
   ],
   "source": [
    "plt.bar(place,placecount,color='teal')\n",
    "plt.xlabel('Places')\n",
    "plt.xticks(rotation=90)\n",
    "plt.ylabel('Employee count')\n",
    "plt.title(\"Employee count in each cities\")\n",
    "\n",
    "plt.show()\n",
    "        "
   ]
  },
  {
   "cell_type": "markdown",
   "id": "214e0779-2500-4a64-9226-03af367aefe8",
   "metadata": {},
   "source": [
    "### Data Encoding"
   ]
  },
  {
   "cell_type": "raw",
   "id": "87d8504e-b6c4-4b1f-8288-22e1c5ecb418",
   "metadata": {},
   "source": [
    "Convert categorical variables into numerical representations using techniques such as\n",
    "one-hot encoding, label encoding, making them suitable for analysis by machine\n",
    "learning algorithms"
   ]
  },
  {
   "cell_type": "code",
   "execution_count": 200,
   "id": "4f8306c5-4c52-4ac2-ade6-744b297a2d7a",
   "metadata": {},
   "outputs": [
    {
     "data": {
      "text/html": [
       "<div>\n",
       "<style scoped>\n",
       "    .dataframe tbody tr th:only-of-type {\n",
       "        vertical-align: middle;\n",
       "    }\n",
       "\n",
       "    .dataframe tbody tr th {\n",
       "        vertical-align: top;\n",
       "    }\n",
       "\n",
       "    .dataframe thead th {\n",
       "        text-align: right;\n",
       "    }\n",
       "</style>\n",
       "<table border=\"1\" class=\"dataframe\">\n",
       "  <thead>\n",
       "    <tr style=\"text-align: right;\">\n",
       "      <th></th>\n",
       "      <th>Company</th>\n",
       "      <th>Age</th>\n",
       "      <th>Salary</th>\n",
       "      <th>Place</th>\n",
       "      <th>Country</th>\n",
       "      <th>Gender</th>\n",
       "    </tr>\n",
       "  </thead>\n",
       "  <tbody>\n",
       "    <tr>\n",
       "      <th>0</th>\n",
       "      <td>Tata Consultancy Services</td>\n",
       "      <td>20.0</td>\n",
       "      <td>5283.471074</td>\n",
       "      <td>Chennai</td>\n",
       "      <td>India</td>\n",
       "      <td>M</td>\n",
       "    </tr>\n",
       "    <tr>\n",
       "      <th>1</th>\n",
       "      <td>Infosys Pvt Lmt</td>\n",
       "      <td>30.0</td>\n",
       "      <td>5283.471074</td>\n",
       "      <td>Mumbai</td>\n",
       "      <td>India</td>\n",
       "      <td>M</td>\n",
       "    </tr>\n",
       "  </tbody>\n",
       "</table>\n",
       "</div>"
      ],
      "text/plain": [
       "                     Company   Age       Salary    Place Country Gender\n",
       "0  Tata Consultancy Services  20.0  5283.471074  Chennai   India      M\n",
       "1            Infosys Pvt Lmt  30.0  5283.471074   Mumbai   India      M"
      ]
     },
     "execution_count": 200,
     "metadata": {},
     "output_type": "execute_result"
    }
   ],
   "source": [
    "#replacing gender column values \n",
    "df.Gender.replace(0,'M',inplace=True)\n",
    "df.Gender.replace(1,'F',inplace=True)\n",
    "df.head(2)\n"
   ]
  },
  {
   "cell_type": "markdown",
   "id": "c165f42e-a46d-4142-a4fd-125ebfbea25b",
   "metadata": {},
   "source": [
    "##### categorical columns are Company, Place,Country,Gender "
   ]
  },
  {
   "cell_type": "markdown",
   "id": "98907d1b-5a07-4c83-a561-928724493665",
   "metadata": {},
   "source": [
    "### Method 1\n",
    "### One Hot encoding"
   ]
  },
  {
   "cell_type": "code",
   "execution_count": 201,
   "id": "39d8ad09-6cac-4c88-a806-da4de9fcc0b3",
   "metadata": {},
   "outputs": [
    {
     "data": {
      "text/html": [
       "<div>\n",
       "<style scoped>\n",
       "    .dataframe tbody tr th:only-of-type {\n",
       "        vertical-align: middle;\n",
       "    }\n",
       "\n",
       "    .dataframe tbody tr th {\n",
       "        vertical-align: top;\n",
       "    }\n",
       "\n",
       "    .dataframe thead th {\n",
       "        text-align: right;\n",
       "    }\n",
       "</style>\n",
       "<table border=\"1\" class=\"dataframe\">\n",
       "  <thead>\n",
       "    <tr style=\"text-align: right;\">\n",
       "      <th></th>\n",
       "      <th>Age</th>\n",
       "      <th>Salary</th>\n",
       "      <th>Company_Congnizant</th>\n",
       "      <th>Company_Infosys Pvt Lmt</th>\n",
       "      <th>Company_Tata Consultancy Services</th>\n",
       "      <th>Place_Bhopal</th>\n",
       "      <th>Place_Calcutta</th>\n",
       "      <th>Place_Chennai</th>\n",
       "      <th>Place_Cochin</th>\n",
       "      <th>Place_Delhi</th>\n",
       "      <th>Place_Hyderabad</th>\n",
       "      <th>Place_Mumbai</th>\n",
       "      <th>Place_Nagpur</th>\n",
       "      <th>Place_Noida</th>\n",
       "      <th>Place_Podicherry</th>\n",
       "      <th>Place_Pune</th>\n",
       "      <th>Country_India</th>\n",
       "      <th>Gender_F</th>\n",
       "      <th>Gender_M</th>\n",
       "    </tr>\n",
       "  </thead>\n",
       "  <tbody>\n",
       "    <tr>\n",
       "      <th>0</th>\n",
       "      <td>20.0</td>\n",
       "      <td>5283.471074</td>\n",
       "      <td>False</td>\n",
       "      <td>False</td>\n",
       "      <td>True</td>\n",
       "      <td>False</td>\n",
       "      <td>False</td>\n",
       "      <td>True</td>\n",
       "      <td>False</td>\n",
       "      <td>False</td>\n",
       "      <td>False</td>\n",
       "      <td>False</td>\n",
       "      <td>False</td>\n",
       "      <td>False</td>\n",
       "      <td>False</td>\n",
       "      <td>False</td>\n",
       "      <td>True</td>\n",
       "      <td>False</td>\n",
       "      <td>True</td>\n",
       "    </tr>\n",
       "    <tr>\n",
       "      <th>1</th>\n",
       "      <td>30.0</td>\n",
       "      <td>5283.471074</td>\n",
       "      <td>False</td>\n",
       "      <td>True</td>\n",
       "      <td>False</td>\n",
       "      <td>False</td>\n",
       "      <td>False</td>\n",
       "      <td>False</td>\n",
       "      <td>False</td>\n",
       "      <td>False</td>\n",
       "      <td>False</td>\n",
       "      <td>True</td>\n",
       "      <td>False</td>\n",
       "      <td>False</td>\n",
       "      <td>False</td>\n",
       "      <td>False</td>\n",
       "      <td>True</td>\n",
       "      <td>False</td>\n",
       "      <td>True</td>\n",
       "    </tr>\n",
       "    <tr>\n",
       "      <th>2</th>\n",
       "      <td>35.0</td>\n",
       "      <td>2300.000000</td>\n",
       "      <td>False</td>\n",
       "      <td>False</td>\n",
       "      <td>True</td>\n",
       "      <td>False</td>\n",
       "      <td>True</td>\n",
       "      <td>False</td>\n",
       "      <td>False</td>\n",
       "      <td>False</td>\n",
       "      <td>False</td>\n",
       "      <td>False</td>\n",
       "      <td>False</td>\n",
       "      <td>False</td>\n",
       "      <td>False</td>\n",
       "      <td>False</td>\n",
       "      <td>True</td>\n",
       "      <td>False</td>\n",
       "      <td>True</td>\n",
       "    </tr>\n",
       "    <tr>\n",
       "      <th>3</th>\n",
       "      <td>40.0</td>\n",
       "      <td>3000.000000</td>\n",
       "      <td>False</td>\n",
       "      <td>True</td>\n",
       "      <td>False</td>\n",
       "      <td>False</td>\n",
       "      <td>False</td>\n",
       "      <td>False</td>\n",
       "      <td>False</td>\n",
       "      <td>True</td>\n",
       "      <td>False</td>\n",
       "      <td>False</td>\n",
       "      <td>False</td>\n",
       "      <td>False</td>\n",
       "      <td>False</td>\n",
       "      <td>False</td>\n",
       "      <td>True</td>\n",
       "      <td>False</td>\n",
       "      <td>True</td>\n",
       "    </tr>\n",
       "    <tr>\n",
       "      <th>4</th>\n",
       "      <td>23.0</td>\n",
       "      <td>4000.000000</td>\n",
       "      <td>False</td>\n",
       "      <td>False</td>\n",
       "      <td>True</td>\n",
       "      <td>False</td>\n",
       "      <td>False</td>\n",
       "      <td>False</td>\n",
       "      <td>False</td>\n",
       "      <td>False</td>\n",
       "      <td>False</td>\n",
       "      <td>True</td>\n",
       "      <td>False</td>\n",
       "      <td>False</td>\n",
       "      <td>False</td>\n",
       "      <td>False</td>\n",
       "      <td>True</td>\n",
       "      <td>False</td>\n",
       "      <td>True</td>\n",
       "    </tr>\n",
       "    <tr>\n",
       "      <th>...</th>\n",
       "      <td>...</td>\n",
       "      <td>...</td>\n",
       "      <td>...</td>\n",
       "      <td>...</td>\n",
       "      <td>...</td>\n",
       "      <td>...</td>\n",
       "      <td>...</td>\n",
       "      <td>...</td>\n",
       "      <td>...</td>\n",
       "      <td>...</td>\n",
       "      <td>...</td>\n",
       "      <td>...</td>\n",
       "      <td>...</td>\n",
       "      <td>...</td>\n",
       "      <td>...</td>\n",
       "      <td>...</td>\n",
       "      <td>...</td>\n",
       "      <td>...</td>\n",
       "      <td>...</td>\n",
       "    </tr>\n",
       "    <tr>\n",
       "      <th>142</th>\n",
       "      <td>22.0</td>\n",
       "      <td>8202.000000</td>\n",
       "      <td>False</td>\n",
       "      <td>True</td>\n",
       "      <td>False</td>\n",
       "      <td>False</td>\n",
       "      <td>False</td>\n",
       "      <td>False</td>\n",
       "      <td>False</td>\n",
       "      <td>False</td>\n",
       "      <td>False</td>\n",
       "      <td>True</td>\n",
       "      <td>False</td>\n",
       "      <td>False</td>\n",
       "      <td>False</td>\n",
       "      <td>False</td>\n",
       "      <td>True</td>\n",
       "      <td>False</td>\n",
       "      <td>True</td>\n",
       "    </tr>\n",
       "    <tr>\n",
       "      <th>143</th>\n",
       "      <td>33.0</td>\n",
       "      <td>9024.000000</td>\n",
       "      <td>False</td>\n",
       "      <td>False</td>\n",
       "      <td>True</td>\n",
       "      <td>False</td>\n",
       "      <td>True</td>\n",
       "      <td>False</td>\n",
       "      <td>False</td>\n",
       "      <td>False</td>\n",
       "      <td>False</td>\n",
       "      <td>False</td>\n",
       "      <td>False</td>\n",
       "      <td>False</td>\n",
       "      <td>False</td>\n",
       "      <td>False</td>\n",
       "      <td>True</td>\n",
       "      <td>True</td>\n",
       "      <td>False</td>\n",
       "    </tr>\n",
       "    <tr>\n",
       "      <th>145</th>\n",
       "      <td>44.0</td>\n",
       "      <td>4034.000000</td>\n",
       "      <td>False</td>\n",
       "      <td>True</td>\n",
       "      <td>False</td>\n",
       "      <td>False</td>\n",
       "      <td>False</td>\n",
       "      <td>False</td>\n",
       "      <td>False</td>\n",
       "      <td>True</td>\n",
       "      <td>False</td>\n",
       "      <td>False</td>\n",
       "      <td>False</td>\n",
       "      <td>False</td>\n",
       "      <td>False</td>\n",
       "      <td>False</td>\n",
       "      <td>True</td>\n",
       "      <td>True</td>\n",
       "      <td>False</td>\n",
       "    </tr>\n",
       "    <tr>\n",
       "      <th>146</th>\n",
       "      <td>33.0</td>\n",
       "      <td>5034.000000</td>\n",
       "      <td>False</td>\n",
       "      <td>False</td>\n",
       "      <td>True</td>\n",
       "      <td>False</td>\n",
       "      <td>False</td>\n",
       "      <td>False</td>\n",
       "      <td>False</td>\n",
       "      <td>False</td>\n",
       "      <td>False</td>\n",
       "      <td>True</td>\n",
       "      <td>False</td>\n",
       "      <td>False</td>\n",
       "      <td>False</td>\n",
       "      <td>False</td>\n",
       "      <td>True</td>\n",
       "      <td>True</td>\n",
       "      <td>False</td>\n",
       "    </tr>\n",
       "    <tr>\n",
       "      <th>147</th>\n",
       "      <td>22.0</td>\n",
       "      <td>8202.000000</td>\n",
       "      <td>False</td>\n",
       "      <td>True</td>\n",
       "      <td>False</td>\n",
       "      <td>False</td>\n",
       "      <td>False</td>\n",
       "      <td>False</td>\n",
       "      <td>True</td>\n",
       "      <td>False</td>\n",
       "      <td>False</td>\n",
       "      <td>False</td>\n",
       "      <td>False</td>\n",
       "      <td>False</td>\n",
       "      <td>False</td>\n",
       "      <td>False</td>\n",
       "      <td>True</td>\n",
       "      <td>False</td>\n",
       "      <td>True</td>\n",
       "    </tr>\n",
       "  </tbody>\n",
       "</table>\n",
       "<p>144 rows × 19 columns</p>\n",
       "</div>"
      ],
      "text/plain": [
       "      Age       Salary  Company_Congnizant  Company_Infosys Pvt Lmt  \\\n",
       "0    20.0  5283.471074               False                    False   \n",
       "1    30.0  5283.471074               False                     True   \n",
       "2    35.0  2300.000000               False                    False   \n",
       "3    40.0  3000.000000               False                     True   \n",
       "4    23.0  4000.000000               False                    False   \n",
       "..    ...          ...                 ...                      ...   \n",
       "142  22.0  8202.000000               False                     True   \n",
       "143  33.0  9024.000000               False                    False   \n",
       "145  44.0  4034.000000               False                     True   \n",
       "146  33.0  5034.000000               False                    False   \n",
       "147  22.0  8202.000000               False                     True   \n",
       "\n",
       "     Company_Tata Consultancy Services  Place_Bhopal  Place_Calcutta  \\\n",
       "0                                 True         False           False   \n",
       "1                                False         False           False   \n",
       "2                                 True         False            True   \n",
       "3                                False         False           False   \n",
       "4                                 True         False           False   \n",
       "..                                 ...           ...             ...   \n",
       "142                              False         False           False   \n",
       "143                               True         False            True   \n",
       "145                              False         False           False   \n",
       "146                               True         False           False   \n",
       "147                              False         False           False   \n",
       "\n",
       "     Place_Chennai  Place_Cochin  Place_Delhi  Place_Hyderabad  Place_Mumbai  \\\n",
       "0             True         False        False            False         False   \n",
       "1            False         False        False            False          True   \n",
       "2            False         False        False            False         False   \n",
       "3            False         False         True            False         False   \n",
       "4            False         False        False            False          True   \n",
       "..             ...           ...          ...              ...           ...   \n",
       "142          False         False        False            False          True   \n",
       "143          False         False        False            False         False   \n",
       "145          False         False         True            False         False   \n",
       "146          False         False        False            False          True   \n",
       "147          False          True        False            False         False   \n",
       "\n",
       "     Place_Nagpur  Place_Noida  Place_Podicherry  Place_Pune  Country_India  \\\n",
       "0           False        False             False       False           True   \n",
       "1           False        False             False       False           True   \n",
       "2           False        False             False       False           True   \n",
       "3           False        False             False       False           True   \n",
       "4           False        False             False       False           True   \n",
       "..            ...          ...               ...         ...            ...   \n",
       "142         False        False             False       False           True   \n",
       "143         False        False             False       False           True   \n",
       "145         False        False             False       False           True   \n",
       "146         False        False             False       False           True   \n",
       "147         False        False             False       False           True   \n",
       "\n",
       "     Gender_F  Gender_M  \n",
       "0       False      True  \n",
       "1       False      True  \n",
       "2       False      True  \n",
       "3       False      True  \n",
       "4       False      True  \n",
       "..        ...       ...  \n",
       "142     False      True  \n",
       "143      True     False  \n",
       "145      True     False  \n",
       "146      True     False  \n",
       "147     False      True  \n",
       "\n",
       "[144 rows x 19 columns]"
      ]
     },
     "execution_count": 201,
     "metadata": {},
     "output_type": "execute_result"
    }
   ],
   "source": [
    "\n",
    "one_hot_encoding1 = pd.get_dummies(data = df, columns = ['Company','Place','Country','Gender'])\n",
    "one_hot_encoding1 "
   ]
  },
  {
   "cell_type": "code",
   "execution_count": 202,
   "id": "4ea18d4d-1090-4307-9dcd-4843319fa0fb",
   "metadata": {},
   "outputs": [
    {
     "name": "stdout",
     "output_type": "stream",
     "text": [
      "['is_Tata Consultancy Services', 'is_Infosys Pvt Lmt', 'is_Congnizant', 'is_Chennai', 'is_Mumbai', 'is_Calcutta', 'is_Delhi', 'is_Podicherry', 'is_Cochin', 'is_Noida', 'is_Hyderabad', 'is_Bhopal', 'is_Nagpur', 'is_Pune', 'is_India', 'is_M', 'is_F']\n"
     ]
    },
    {
     "name": "stderr",
     "output_type": "stream",
     "text": [
      "C:\\Users\\bsind\\AppData\\Local\\Programs\\Python\\Python311\\Lib\\site-packages\\sklearn\\preprocessing\\_encoders.py:975: FutureWarning: `sparse` was renamed to `sparse_output` in version 1.2 and will be removed in 1.4. `sparse_output` is ignored unless you leave `sparse` to its default value.\n",
      "  warnings.warn(\n"
     ]
    },
    {
     "data": {
      "text/html": [
       "<div>\n",
       "<style scoped>\n",
       "    .dataframe tbody tr th:only-of-type {\n",
       "        vertical-align: middle;\n",
       "    }\n",
       "\n",
       "    .dataframe tbody tr th {\n",
       "        vertical-align: top;\n",
       "    }\n",
       "\n",
       "    .dataframe thead th {\n",
       "        text-align: right;\n",
       "    }\n",
       "</style>\n",
       "<table border=\"1\" class=\"dataframe\">\n",
       "  <thead>\n",
       "    <tr style=\"text-align: right;\">\n",
       "      <th></th>\n",
       "      <th>Company</th>\n",
       "      <th>Age</th>\n",
       "      <th>Salary</th>\n",
       "      <th>Place</th>\n",
       "      <th>Country</th>\n",
       "      <th>Gender</th>\n",
       "      <th>is_Tata Consultancy Services</th>\n",
       "      <th>is_Infosys Pvt Lmt</th>\n",
       "      <th>is_Congnizant</th>\n",
       "      <th>is_Chennai</th>\n",
       "      <th>...</th>\n",
       "      <th>is_Podicherry</th>\n",
       "      <th>is_Cochin</th>\n",
       "      <th>is_Noida</th>\n",
       "      <th>is_Hyderabad</th>\n",
       "      <th>is_Bhopal</th>\n",
       "      <th>is_Nagpur</th>\n",
       "      <th>is_Pune</th>\n",
       "      <th>is_India</th>\n",
       "      <th>is_M</th>\n",
       "      <th>is_F</th>\n",
       "    </tr>\n",
       "  </thead>\n",
       "  <tbody>\n",
       "    <tr>\n",
       "      <th>0</th>\n",
       "      <td>Tata Consultancy Services</td>\n",
       "      <td>20.0</td>\n",
       "      <td>5283.471074</td>\n",
       "      <td>Chennai</td>\n",
       "      <td>India</td>\n",
       "      <td>M</td>\n",
       "      <td>0.0</td>\n",
       "      <td>0.0</td>\n",
       "      <td>1.0</td>\n",
       "      <td>0.0</td>\n",
       "      <td>...</td>\n",
       "      <td>0.0</td>\n",
       "      <td>0.0</td>\n",
       "      <td>0.0</td>\n",
       "      <td>0.0</td>\n",
       "      <td>0.0</td>\n",
       "      <td>0.0</td>\n",
       "      <td>0.0</td>\n",
       "      <td>1.0</td>\n",
       "      <td>0.0</td>\n",
       "      <td>1.0</td>\n",
       "    </tr>\n",
       "    <tr>\n",
       "      <th>1</th>\n",
       "      <td>Infosys Pvt Lmt</td>\n",
       "      <td>30.0</td>\n",
       "      <td>5283.471074</td>\n",
       "      <td>Mumbai</td>\n",
       "      <td>India</td>\n",
       "      <td>M</td>\n",
       "      <td>0.0</td>\n",
       "      <td>1.0</td>\n",
       "      <td>0.0</td>\n",
       "      <td>0.0</td>\n",
       "      <td>...</td>\n",
       "      <td>0.0</td>\n",
       "      <td>0.0</td>\n",
       "      <td>1.0</td>\n",
       "      <td>0.0</td>\n",
       "      <td>0.0</td>\n",
       "      <td>0.0</td>\n",
       "      <td>0.0</td>\n",
       "      <td>1.0</td>\n",
       "      <td>0.0</td>\n",
       "      <td>1.0</td>\n",
       "    </tr>\n",
       "    <tr>\n",
       "      <th>2</th>\n",
       "      <td>Tata Consultancy Services</td>\n",
       "      <td>35.0</td>\n",
       "      <td>2300.000000</td>\n",
       "      <td>Calcutta</td>\n",
       "      <td>India</td>\n",
       "      <td>M</td>\n",
       "      <td>0.0</td>\n",
       "      <td>0.0</td>\n",
       "      <td>1.0</td>\n",
       "      <td>0.0</td>\n",
       "      <td>...</td>\n",
       "      <td>0.0</td>\n",
       "      <td>0.0</td>\n",
       "      <td>0.0</td>\n",
       "      <td>0.0</td>\n",
       "      <td>0.0</td>\n",
       "      <td>0.0</td>\n",
       "      <td>0.0</td>\n",
       "      <td>1.0</td>\n",
       "      <td>0.0</td>\n",
       "      <td>1.0</td>\n",
       "    </tr>\n",
       "    <tr>\n",
       "      <th>3</th>\n",
       "      <td>Infosys Pvt Lmt</td>\n",
       "      <td>40.0</td>\n",
       "      <td>3000.000000</td>\n",
       "      <td>Delhi</td>\n",
       "      <td>India</td>\n",
       "      <td>M</td>\n",
       "      <td>0.0</td>\n",
       "      <td>1.0</td>\n",
       "      <td>0.0</td>\n",
       "      <td>0.0</td>\n",
       "      <td>...</td>\n",
       "      <td>1.0</td>\n",
       "      <td>0.0</td>\n",
       "      <td>0.0</td>\n",
       "      <td>0.0</td>\n",
       "      <td>0.0</td>\n",
       "      <td>0.0</td>\n",
       "      <td>0.0</td>\n",
       "      <td>1.0</td>\n",
       "      <td>0.0</td>\n",
       "      <td>1.0</td>\n",
       "    </tr>\n",
       "    <tr>\n",
       "      <th>4</th>\n",
       "      <td>Tata Consultancy Services</td>\n",
       "      <td>23.0</td>\n",
       "      <td>4000.000000</td>\n",
       "      <td>Mumbai</td>\n",
       "      <td>India</td>\n",
       "      <td>M</td>\n",
       "      <td>0.0</td>\n",
       "      <td>0.0</td>\n",
       "      <td>1.0</td>\n",
       "      <td>0.0</td>\n",
       "      <td>...</td>\n",
       "      <td>0.0</td>\n",
       "      <td>0.0</td>\n",
       "      <td>1.0</td>\n",
       "      <td>0.0</td>\n",
       "      <td>0.0</td>\n",
       "      <td>0.0</td>\n",
       "      <td>0.0</td>\n",
       "      <td>1.0</td>\n",
       "      <td>0.0</td>\n",
       "      <td>1.0</td>\n",
       "    </tr>\n",
       "  </tbody>\n",
       "</table>\n",
       "<p>5 rows × 23 columns</p>\n",
       "</div>"
      ],
      "text/plain": [
       "                     Company   Age       Salary     Place Country Gender  \\\n",
       "0  Tata Consultancy Services  20.0  5283.471074   Chennai   India      M   \n",
       "1            Infosys Pvt Lmt  30.0  5283.471074    Mumbai   India      M   \n",
       "2  Tata Consultancy Services  35.0  2300.000000  Calcutta   India      M   \n",
       "3            Infosys Pvt Lmt  40.0  3000.000000     Delhi   India      M   \n",
       "4  Tata Consultancy Services  23.0  4000.000000    Mumbai   India      M   \n",
       "\n",
       "   is_Tata Consultancy Services  is_Infosys Pvt Lmt  is_Congnizant  \\\n",
       "0                           0.0                 0.0            1.0   \n",
       "1                           0.0                 1.0            0.0   \n",
       "2                           0.0                 0.0            1.0   \n",
       "3                           0.0                 1.0            0.0   \n",
       "4                           0.0                 0.0            1.0   \n",
       "\n",
       "   is_Chennai  ...  is_Podicherry  is_Cochin  is_Noida  is_Hyderabad  \\\n",
       "0         0.0  ...            0.0        0.0       0.0           0.0   \n",
       "1         0.0  ...            0.0        0.0       1.0           0.0   \n",
       "2         0.0  ...            0.0        0.0       0.0           0.0   \n",
       "3         0.0  ...            1.0        0.0       0.0           0.0   \n",
       "4         0.0  ...            0.0        0.0       1.0           0.0   \n",
       "\n",
       "   is_Bhopal  is_Nagpur  is_Pune  is_India  is_M  is_F  \n",
       "0        0.0        0.0      0.0       1.0   0.0   1.0  \n",
       "1        0.0        0.0      0.0       1.0   0.0   1.0  \n",
       "2        0.0        0.0      0.0       1.0   0.0   1.0  \n",
       "3        0.0        0.0      0.0       1.0   0.0   1.0  \n",
       "4        0.0        0.0      0.0       1.0   0.0   1.0  \n",
       "\n",
       "[5 rows x 23 columns]"
      ]
     },
     "execution_count": 202,
     "metadata": {},
     "output_type": "execute_result"
    }
   ],
   "source": [
    "from sklearn.preprocessing import OneHotEncoder\n",
    "\n",
    "cols_to_encode = ['Company','Place','Country','Gender']\n",
    "new_encoded_cols_names = []\n",
    "\n",
    "for col in cols_to_encode:\n",
    "    new_encoded_cols_names += [f\"is_{category}\" for category in df[col].unique().tolist()]\n",
    "print(new_encoded_cols_names)\n",
    "\n",
    "one_hot_encoder = OneHotEncoder(sparse = False, handle_unknown = 'ignore')\n",
    "encoded_cols = one_hot_encoder.fit_transform(df[cols_to_encode])\n",
    "\n",
    "df_encoded = pd.DataFrame(encoded_cols, columns = new_encoded_cols_names)\n",
    "df_one_hot_encoded = df.join(df_encoded)\n",
    "\n",
    "df_one_hot_encoded.head()"
   ]
  },
  {
   "cell_type": "markdown",
   "id": "efce938e-5504-4794-8cf1-bc5b167a0ee8",
   "metadata": {},
   "source": [
    "### Method 2\n",
    "### Label Encoder"
   ]
  },
  {
   "cell_type": "code",
   "execution_count": 203,
   "id": "eed632f8-f19f-489f-a4b7-dff26c308ca6",
   "metadata": {},
   "outputs": [],
   "source": [
    "from sklearn.preprocessing import LabelEncoder\n",
    "label_encoder = LabelEncoder()\n",
    "for i in df:\n",
    "    df[i] = label_encoder.fit_transform(df[i])"
   ]
  },
  {
   "cell_type": "code",
   "execution_count": 204,
   "id": "a1f0e604-3e10-4d9a-b298-3a9eae57369f",
   "metadata": {},
   "outputs": [
    {
     "data": {
      "text/plain": [
       "Company  Age  Salary  Place  Country  Gender\n",
       "0        0    1       1      0        1         1\n",
       "         1    1       6      0        1         1\n",
       "2        6    5       4      0        1         1\n",
       "              12      6      0        1         1\n",
       "              16      1      0        1         1\n",
       "                                               ..\n",
       "1        8    29      6      0        1         1\n",
       "         9    29      0      0        1         1\n",
       "              33      6      0        1         1\n",
       "         10   20      8      0        1         1\n",
       "2        19   8       8      0        1         1\n",
       "Name: count, Length: 144, dtype: int64"
      ]
     },
     "execution_count": 204,
     "metadata": {},
     "output_type": "execute_result"
    }
   ],
   "source": [
    "df.value_counts()"
   ]
  },
  {
   "cell_type": "code",
   "execution_count": 205,
   "id": "26b42972-1a85-4d94-a6f2-37f4ce42df00",
   "metadata": {},
   "outputs": [
    {
     "data": {
      "text/html": [
       "<div>\n",
       "<style scoped>\n",
       "    .dataframe tbody tr th:only-of-type {\n",
       "        vertical-align: middle;\n",
       "    }\n",
       "\n",
       "    .dataframe tbody tr th {\n",
       "        vertical-align: top;\n",
       "    }\n",
       "\n",
       "    .dataframe thead th {\n",
       "        text-align: right;\n",
       "    }\n",
       "</style>\n",
       "<table border=\"1\" class=\"dataframe\">\n",
       "  <thead>\n",
       "    <tr style=\"text-align: right;\">\n",
       "      <th></th>\n",
       "      <th>Company</th>\n",
       "      <th>Age</th>\n",
       "      <th>Salary</th>\n",
       "      <th>Place</th>\n",
       "      <th>Country</th>\n",
       "      <th>Gender</th>\n",
       "    </tr>\n",
       "  </thead>\n",
       "  <tbody>\n",
       "    <tr>\n",
       "      <th>0</th>\n",
       "      <td>2</td>\n",
       "      <td>3</td>\n",
       "      <td>21</td>\n",
       "      <td>2</td>\n",
       "      <td>0</td>\n",
       "      <td>1</td>\n",
       "    </tr>\n",
       "    <tr>\n",
       "      <th>1</th>\n",
       "      <td>1</td>\n",
       "      <td>10</td>\n",
       "      <td>21</td>\n",
       "      <td>6</td>\n",
       "      <td>0</td>\n",
       "      <td>1</td>\n",
       "    </tr>\n",
       "    <tr>\n",
       "      <th>2</th>\n",
       "      <td>2</td>\n",
       "      <td>16</td>\n",
       "      <td>3</td>\n",
       "      <td>1</td>\n",
       "      <td>0</td>\n",
       "      <td>1</td>\n",
       "    </tr>\n",
       "    <tr>\n",
       "      <th>3</th>\n",
       "      <td>1</td>\n",
       "      <td>20</td>\n",
       "      <td>5</td>\n",
       "      <td>4</td>\n",
       "      <td>0</td>\n",
       "      <td>1</td>\n",
       "    </tr>\n",
       "    <tr>\n",
       "      <th>4</th>\n",
       "      <td>2</td>\n",
       "      <td>6</td>\n",
       "      <td>12</td>\n",
       "      <td>6</td>\n",
       "      <td>0</td>\n",
       "      <td>1</td>\n",
       "    </tr>\n",
       "    <tr>\n",
       "      <th>...</th>\n",
       "      <td>...</td>\n",
       "      <td>...</td>\n",
       "      <td>...</td>\n",
       "      <td>...</td>\n",
       "      <td>...</td>\n",
       "      <td>...</td>\n",
       "    </tr>\n",
       "    <tr>\n",
       "      <th>142</th>\n",
       "      <td>1</td>\n",
       "      <td>5</td>\n",
       "      <td>33</td>\n",
       "      <td>6</td>\n",
       "      <td>0</td>\n",
       "      <td>1</td>\n",
       "    </tr>\n",
       "    <tr>\n",
       "      <th>143</th>\n",
       "      <td>2</td>\n",
       "      <td>14</td>\n",
       "      <td>38</td>\n",
       "      <td>1</td>\n",
       "      <td>0</td>\n",
       "      <td>0</td>\n",
       "    </tr>\n",
       "    <tr>\n",
       "      <th>145</th>\n",
       "      <td>1</td>\n",
       "      <td>23</td>\n",
       "      <td>13</td>\n",
       "      <td>4</td>\n",
       "      <td>0</td>\n",
       "      <td>0</td>\n",
       "    </tr>\n",
       "    <tr>\n",
       "      <th>146</th>\n",
       "      <td>2</td>\n",
       "      <td>14</td>\n",
       "      <td>19</td>\n",
       "      <td>6</td>\n",
       "      <td>0</td>\n",
       "      <td>0</td>\n",
       "    </tr>\n",
       "    <tr>\n",
       "      <th>147</th>\n",
       "      <td>1</td>\n",
       "      <td>5</td>\n",
       "      <td>33</td>\n",
       "      <td>3</td>\n",
       "      <td>0</td>\n",
       "      <td>1</td>\n",
       "    </tr>\n",
       "  </tbody>\n",
       "</table>\n",
       "<p>144 rows × 6 columns</p>\n",
       "</div>"
      ],
      "text/plain": [
       "     Company  Age  Salary  Place  Country  Gender\n",
       "0          2    3      21      2        0       1\n",
       "1          1   10      21      6        0       1\n",
       "2          2   16       3      1        0       1\n",
       "3          1   20       5      4        0       1\n",
       "4          2    6      12      6        0       1\n",
       "..       ...  ...     ...    ...      ...     ...\n",
       "142        1    5      33      6        0       1\n",
       "143        2   14      38      1        0       0\n",
       "145        1   23      13      4        0       0\n",
       "146        2   14      19      6        0       0\n",
       "147        1    5      33      3        0       1\n",
       "\n",
       "[144 rows x 6 columns]"
      ]
     },
     "execution_count": 205,
     "metadata": {},
     "output_type": "execute_result"
    }
   ],
   "source": [
    "df"
   ]
  },
  {
   "cell_type": "markdown",
   "id": "37e0ccf9-5915-4fe9-9a31-90f1df8c0646",
   "metadata": {},
   "source": [
    "## Feature Scaling"
   ]
  },
  {
   "cell_type": "markdown",
   "id": "ae7dbec4-31bf-4173-94c9-adbb0f550722",
   "metadata": {},
   "source": [
    "### Standard Scaler"
   ]
  },
  {
   "cell_type": "code",
   "execution_count": 206,
   "id": "e8a3b936-571c-4470-9100-2d2677762e40",
   "metadata": {},
   "outputs": [
    {
     "name": "stdout",
     "output_type": "stream",
     "text": [
      "[[-1.51403639  0.13960436]\n",
      " [-0.46513695  0.13960436]\n",
      " [ 0.43391971 -1.36812276]\n",
      " [ 1.03329082 -1.20059753]\n",
      " [-1.06450806 -0.6142592 ]\n",
      " [-0.01560862 -0.19544611]\n",
      " [-0.01560862  0.55841745]\n",
      " [-1.06450806  0.80970531]\n",
      " [ 0.28407693  1.06099316]\n",
      " [ 1.63266192  1.47980625]\n",
      " [-1.06450806  0.13960436]\n",
      " [ 0.28407693 -1.61941062]\n",
      " [ 1.63266192  0.13960436]\n",
      " [-1.81372194 -1.535648  ]\n",
      " [ 1.03329082 -1.20059753]\n",
      " [-1.06450806 -1.20059753]\n",
      " [-1.06450806 -1.11683491]\n",
      " [ 0.28407693 -0.19544611]\n",
      " [-1.21435084  0.13960436]\n",
      " [-0.1654514   0.13960436]\n",
      " [ 0.73360526 -0.94930967]\n",
      " [ 1.93234748 -0.86554705]\n",
      " [-1.36419361 -0.27920873]\n",
      " [-0.01560862  0.47465484]\n",
      " [-0.01560862  0.89346793]\n",
      " [-1.06450806  1.39604363]\n",
      " [ 0.28407693  1.2285184 ]\n",
      " [ 1.63266192  1.64733149]\n",
      " [-1.06450806  1.73109411]\n",
      " [ 0.43391971 -1.45188538]\n",
      " [ 1.7825047   0.97723054]\n",
      " [-1.51403639 -1.28436014]\n",
      " [ 1.63266192 -0.53049658]\n",
      " [ 0.58376248 -0.02792087]\n",
      " [-0.61497973  1.14475578]\n",
      " [ 0.43391971  1.56356887]\n",
      " [-0.1654514   0.13960436]\n",
      " [ 0.43391971  0.13960436]\n",
      " [ 0.28407693 -1.36812276]\n",
      " [ 1.18313359 -1.20059753]\n",
      " [-0.91466528 -0.36297134]\n",
      " [-0.01560862 -0.19544611]\n",
      " [-0.01560862  0.55841745]\n",
      " [-0.76482251  0.80970531]\n",
      " [ 0.43391971  1.06099316]\n",
      " [ 1.7825047   1.47980625]\n",
      " [-0.91466528  0.13960436]\n",
      " [-0.1654514  -1.61941062]\n",
      " [ 1.33297637  0.13960436]\n",
      " [-1.66387917 -1.535648  ]\n",
      " [ 1.18313359 -1.20059753]\n",
      " [-0.91466528 -1.20059753]\n",
      " [-1.36419361 -1.11683491]\n",
      " [ 0.43391971 -0.19544611]\n",
      " [-1.36419361  0.72594269]\n",
      " [-0.1654514   0.97723054]\n",
      " [ 0.88344804 -0.94930967]\n",
      " [ 2.08219025 -0.86554705]\n",
      " [-1.06450806 -0.27920873]\n",
      " [-0.01560862  0.47465484]\n",
      " [-0.01560862  0.89346793]\n",
      " [-0.76482251  1.39604363]\n",
      " [ 0.58376248  1.2285184 ]\n",
      " [ 1.18313359  1.64733149]\n",
      " [-0.76482251  0.64218007]\n",
      " [-0.31529418 -1.45188538]\n",
      " [ 1.18313359  0.13960436]\n",
      " [-1.36419361 -1.28436014]\n",
      " [ 1.33297637 -0.53049658]\n",
      " [-0.1654514  -0.02792087]\n",
      " [-1.36419361  1.14475578]\n",
      " [ 0.28407693  1.56356887]\n",
      " [-0.91466528  0.13960436]\n",
      " [ 0.28407693  0.13960436]\n",
      " [ 0.73360526 -1.36812276]\n",
      " [ 1.48281915 -1.20059753]\n",
      " [-0.1654514  -0.6142592 ]\n",
      " [-0.01560862 -0.19544611]\n",
      " [-0.01560862  0.55841745]\n",
      " [-0.61497973  0.80970531]\n",
      " [-0.1654514   1.06099316]\n",
      " [ 1.33297637  1.47980625]\n",
      " [-1.21435084  0.13960436]\n",
      " [ 0.13423415 -1.61941062]\n",
      " [-1.96356472 -1.535648  ]\n",
      " [ 1.18313359 -1.20059753]\n",
      " [-1.36419361 -1.20059753]\n",
      " [-0.01560862 -1.11683491]\n",
      " [ 0.58376248 -0.19544611]\n",
      " [-1.36419361  0.13960436]\n",
      " [ 0.28407693  0.13960436]\n",
      " [-0.01560862 -0.94930967]\n",
      " [ 2.23203303 -0.86554705]\n",
      " [-1.21435084 -0.27920873]\n",
      " [-0.01560862  0.47465484]\n",
      " [-0.01560862  0.89346793]\n",
      " [-1.21435084  1.39604363]\n",
      " [ 0.13423415  1.2285184 ]\n",
      " [ 1.48281915  1.64733149]\n",
      " [-1.21435084  0.13960436]\n",
      " [-0.01560862 -1.45188538]\n",
      " [ 1.48281915  0.13960436]\n",
      " [-1.21435084 -1.28436014]\n",
      " [ 1.48281915 -0.53049658]\n",
      " [ 0.13423415 -0.02792087]\n",
      " [-1.21435084  1.14475578]\n",
      " [-0.01560862  1.56356887]\n",
      " [ 0.13423415  0.13960436]\n",
      " [ 0.13423415  0.13960436]\n",
      " [ 0.13423415 -1.36812276]\n",
      " [-0.01560862 -0.78178444]\n",
      " [-1.21435084 -0.44673396]\n",
      " [-0.01560862  0.22336698]\n",
      " [-0.01560862  0.3071296 ]\n",
      " [-1.21435084  1.31228102]\n",
      " [ 0.13423415  1.31228102]\n",
      " [ 1.48281915  1.73109411]\n",
      " [-1.21435084  0.13960436]\n",
      " [ 0.13423415 -1.61941062]\n",
      " [ 1.48281915  0.13960436]\n",
      " [-0.01560862 -1.535648  ]\n",
      " [ 1.48281915 -0.78178444]\n",
      " [-0.01560862 -0.69802182]\n",
      " [-1.21435084  1.31228102]\n",
      " [ 0.13423415  0.39089222]\n",
      " [-1.51403639 -0.11168349]\n",
      " [-0.46513695  0.05584175]\n",
      " [ 0.13423415 -0.94930967]\n",
      " [ 1.93234748 -0.86554705]\n",
      " [-0.01560862  0.89346793]\n",
      " [-1.21435084  1.39604363]\n",
      " [-0.31529418  1.2285184 ]\n",
      " [ 1.03329082  1.64733149]\n",
      " [-0.01560862  0.13960436]\n",
      " [-0.31529418 -1.45188538]\n",
      " [ 1.48281915 -1.03307229]\n",
      " [-1.21435084 -1.28436014]\n",
      " [ 1.48281915 -0.53049658]\n",
      " [ 0.13423415 -0.02792087]\n",
      " [-1.21435084  1.14475578]\n",
      " [ 0.13423415  1.56356887]\n",
      " [ 1.48281915 -0.53049658]\n",
      " [ 0.13423415 -0.02792087]\n",
      " [-1.21435084  1.14475578]]\n"
     ]
    }
   ],
   "source": [
    "from sklearn.preprocessing import StandardScaler\n",
    "data = df[['Age','Salary']].copy()\n",
    "# Create a scaler object\n",
    "scaler = StandardScaler()\n",
    "# Fit the scaler on the data\n",
    "scaler.fit(data)\n",
    "# Transform the data\n",
    "scaled_data = scaler.transform(data)\n",
    "# Print the scaled data\n",
    "print(scaled_data)"
   ]
  },
  {
   "cell_type": "markdown",
   "id": "0669790b-37c2-4869-8020-354ddeb6d426",
   "metadata": {},
   "source": [
    "### MinMaxScaler"
   ]
  },
  {
   "cell_type": "code",
   "execution_count": 207,
   "id": "0152b947-f8bb-42dc-8c96-d05dff0d96fe",
   "metadata": {},
   "outputs": [
    {
     "name": "stdout",
     "output_type": "stream",
     "text": [
      "[[0.10714286 0.525     ]\n",
      " [0.35714286 0.525     ]\n",
      " [0.57142857 0.075     ]\n",
      " [0.71428571 0.125     ]\n",
      " [0.21428571 0.3       ]\n",
      " [0.46428571 0.425     ]\n",
      " [0.46428571 0.65      ]\n",
      " [0.21428571 0.725     ]\n",
      " [0.53571429 0.8       ]\n",
      " [0.85714286 0.925     ]\n",
      " [0.21428571 0.525     ]\n",
      " [0.53571429 0.        ]\n",
      " [0.85714286 0.525     ]\n",
      " [0.03571429 0.025     ]\n",
      " [0.71428571 0.125     ]\n",
      " [0.21428571 0.125     ]\n",
      " [0.21428571 0.15      ]\n",
      " [0.53571429 0.425     ]\n",
      " [0.17857143 0.525     ]\n",
      " [0.42857143 0.525     ]\n",
      " [0.64285714 0.2       ]\n",
      " [0.92857143 0.225     ]\n",
      " [0.14285714 0.4       ]\n",
      " [0.46428571 0.625     ]\n",
      " [0.46428571 0.75      ]\n",
      " [0.21428571 0.9       ]\n",
      " [0.53571429 0.85      ]\n",
      " [0.85714286 0.975     ]\n",
      " [0.21428571 1.        ]\n",
      " [0.57142857 0.05      ]\n",
      " [0.89285714 0.775     ]\n",
      " [0.10714286 0.1       ]\n",
      " [0.85714286 0.325     ]\n",
      " [0.60714286 0.475     ]\n",
      " [0.32142857 0.825     ]\n",
      " [0.57142857 0.95      ]\n",
      " [0.42857143 0.525     ]\n",
      " [0.57142857 0.525     ]\n",
      " [0.53571429 0.075     ]\n",
      " [0.75       0.125     ]\n",
      " [0.25       0.375     ]\n",
      " [0.46428571 0.425     ]\n",
      " [0.46428571 0.65      ]\n",
      " [0.28571429 0.725     ]\n",
      " [0.57142857 0.8       ]\n",
      " [0.89285714 0.925     ]\n",
      " [0.25       0.525     ]\n",
      " [0.42857143 0.        ]\n",
      " [0.78571429 0.525     ]\n",
      " [0.07142857 0.025     ]\n",
      " [0.75       0.125     ]\n",
      " [0.25       0.125     ]\n",
      " [0.14285714 0.15      ]\n",
      " [0.57142857 0.425     ]\n",
      " [0.14285714 0.7       ]\n",
      " [0.42857143 0.775     ]\n",
      " [0.67857143 0.2       ]\n",
      " [0.96428571 0.225     ]\n",
      " [0.21428571 0.4       ]\n",
      " [0.46428571 0.625     ]\n",
      " [0.46428571 0.75      ]\n",
      " [0.28571429 0.9       ]\n",
      " [0.60714286 0.85      ]\n",
      " [0.75       0.975     ]\n",
      " [0.28571429 0.675     ]\n",
      " [0.39285714 0.05      ]\n",
      " [0.75       0.525     ]\n",
      " [0.14285714 0.1       ]\n",
      " [0.78571429 0.325     ]\n",
      " [0.42857143 0.475     ]\n",
      " [0.14285714 0.825     ]\n",
      " [0.53571429 0.95      ]\n",
      " [0.25       0.525     ]\n",
      " [0.53571429 0.525     ]\n",
      " [0.64285714 0.075     ]\n",
      " [0.82142857 0.125     ]\n",
      " [0.42857143 0.3       ]\n",
      " [0.46428571 0.425     ]\n",
      " [0.46428571 0.65      ]\n",
      " [0.32142857 0.725     ]\n",
      " [0.42857143 0.8       ]\n",
      " [0.78571429 0.925     ]\n",
      " [0.17857143 0.525     ]\n",
      " [0.5        0.        ]\n",
      " [0.         0.025     ]\n",
      " [0.75       0.125     ]\n",
      " [0.14285714 0.125     ]\n",
      " [0.46428571 0.15      ]\n",
      " [0.60714286 0.425     ]\n",
      " [0.14285714 0.525     ]\n",
      " [0.53571429 0.525     ]\n",
      " [0.46428571 0.2       ]\n",
      " [1.         0.225     ]\n",
      " [0.17857143 0.4       ]\n",
      " [0.46428571 0.625     ]\n",
      " [0.46428571 0.75      ]\n",
      " [0.17857143 0.9       ]\n",
      " [0.5        0.85      ]\n",
      " [0.82142857 0.975     ]\n",
      " [0.17857143 0.525     ]\n",
      " [0.46428571 0.05      ]\n",
      " [0.82142857 0.525     ]\n",
      " [0.17857143 0.1       ]\n",
      " [0.82142857 0.325     ]\n",
      " [0.5        0.475     ]\n",
      " [0.17857143 0.825     ]\n",
      " [0.46428571 0.95      ]\n",
      " [0.5        0.525     ]\n",
      " [0.5        0.525     ]\n",
      " [0.5        0.075     ]\n",
      " [0.46428571 0.25      ]\n",
      " [0.17857143 0.35      ]\n",
      " [0.46428571 0.55      ]\n",
      " [0.46428571 0.575     ]\n",
      " [0.17857143 0.875     ]\n",
      " [0.5        0.875     ]\n",
      " [0.82142857 1.        ]\n",
      " [0.17857143 0.525     ]\n",
      " [0.5        0.        ]\n",
      " [0.82142857 0.525     ]\n",
      " [0.46428571 0.025     ]\n",
      " [0.82142857 0.25      ]\n",
      " [0.46428571 0.275     ]\n",
      " [0.17857143 0.875     ]\n",
      " [0.5        0.6       ]\n",
      " [0.10714286 0.45      ]\n",
      " [0.35714286 0.5       ]\n",
      " [0.5        0.2       ]\n",
      " [0.92857143 0.225     ]\n",
      " [0.46428571 0.75      ]\n",
      " [0.17857143 0.9       ]\n",
      " [0.39285714 0.85      ]\n",
      " [0.71428571 0.975     ]\n",
      " [0.46428571 0.525     ]\n",
      " [0.39285714 0.05      ]\n",
      " [0.82142857 0.175     ]\n",
      " [0.17857143 0.1       ]\n",
      " [0.82142857 0.325     ]\n",
      " [0.5        0.475     ]\n",
      " [0.17857143 0.825     ]\n",
      " [0.5        0.95      ]\n",
      " [0.82142857 0.325     ]\n",
      " [0.5        0.475     ]\n",
      " [0.17857143 0.825     ]]\n"
     ]
    }
   ],
   "source": [
    "from sklearn.preprocessing import MinMaxScaler\n",
    "# Create a scaler object\n",
    "scaler = MinMaxScaler()\n",
    "# Fit the scaler on the data\n",
    "scaler.fit(data)\n",
    "# Transform the data\n",
    "scaled_data = scaler.transform(data)\n",
    "# Print the scaled data\n",
    "print(scaled_data)"
   ]
  },
  {
   "cell_type": "code",
   "execution_count": null,
   "id": "0e332a33-8efc-454c-b2ca-5f00437148c0",
   "metadata": {},
   "outputs": [],
   "source": []
  },
  {
   "cell_type": "code",
   "execution_count": null,
   "id": "6f049d2e-3235-4439-9c9c-776e9dffe581",
   "metadata": {},
   "outputs": [],
   "source": []
  },
  {
   "cell_type": "code",
   "execution_count": null,
   "id": "c5a3fae5-84dc-47d3-83ba-f9215a39bf17",
   "metadata": {},
   "outputs": [],
   "source": []
  },
  {
   "cell_type": "code",
   "execution_count": null,
   "id": "2d136c5e-2cc7-4bc4-a1b7-bc2e2831851b",
   "metadata": {},
   "outputs": [],
   "source": []
  },
  {
   "cell_type": "code",
   "execution_count": null,
   "id": "5872c1f9-89c7-4326-bf98-b160a88014bb",
   "metadata": {},
   "outputs": [],
   "source": []
  },
  {
   "cell_type": "code",
   "execution_count": null,
   "id": "ab90ea32-ed0a-4ff2-a9e7-76ddbdd5f4c1",
   "metadata": {},
   "outputs": [],
   "source": []
  },
  {
   "cell_type": "code",
   "execution_count": null,
   "id": "7749f74c-5060-4ba2-b271-2fea97b3449c",
   "metadata": {},
   "outputs": [],
   "source": []
  },
  {
   "cell_type": "code",
   "execution_count": null,
   "id": "e254c0fa-dbb8-402e-9cf2-d2c778959c4c",
   "metadata": {},
   "outputs": [],
   "source": []
  },
  {
   "cell_type": "code",
   "execution_count": null,
   "id": "76fba4cf-fd6f-4586-8065-a266f2122bff",
   "metadata": {},
   "outputs": [],
   "source": []
  },
  {
   "cell_type": "code",
   "execution_count": null,
   "id": "f11d9abf-b5b7-4e48-ad78-b0346ed85cbf",
   "metadata": {},
   "outputs": [],
   "source": []
  },
  {
   "cell_type": "code",
   "execution_count": null,
   "id": "5ac4fde4-cb9f-4f57-b8a5-c80e07aa96af",
   "metadata": {},
   "outputs": [],
   "source": []
  },
  {
   "cell_type": "code",
   "execution_count": null,
   "id": "7748cf25-a7cd-4625-a794-67ceab959a58",
   "metadata": {},
   "outputs": [],
   "source": []
  },
  {
   "cell_type": "code",
   "execution_count": null,
   "id": "55b28c64-994d-4783-8b13-204a8e59bad8",
   "metadata": {},
   "outputs": [],
   "source": []
  },
  {
   "cell_type": "code",
   "execution_count": null,
   "id": "92dfebaa-cbf5-4f55-aac6-328e1c4205b8",
   "metadata": {},
   "outputs": [],
   "source": []
  },
  {
   "cell_type": "code",
   "execution_count": null,
   "id": "176504f0-bdc9-4f22-90ff-421108d7120a",
   "metadata": {},
   "outputs": [],
   "source": []
  },
  {
   "cell_type": "code",
   "execution_count": null,
   "id": "d0f3e586-b466-4490-bc6b-e0f4e66d5075",
   "metadata": {},
   "outputs": [],
   "source": []
  },
  {
   "cell_type": "code",
   "execution_count": null,
   "id": "905362f5-eeae-4109-a32e-e854c0e0ea49",
   "metadata": {},
   "outputs": [],
   "source": []
  },
  {
   "cell_type": "code",
   "execution_count": null,
   "id": "b60a769a-73e9-4888-93fd-b91b1dbe2bd8",
   "metadata": {},
   "outputs": [],
   "source": []
  },
  {
   "cell_type": "code",
   "execution_count": null,
   "id": "60489811-b04e-45fc-88ff-0ab5ddacb0ff",
   "metadata": {},
   "outputs": [],
   "source": []
  },
  {
   "cell_type": "code",
   "execution_count": null,
   "id": "752f2ad8-1d5d-4efb-9cf5-cbc58690f8cb",
   "metadata": {},
   "outputs": [],
   "source": []
  },
  {
   "cell_type": "code",
   "execution_count": null,
   "id": "1fd56efc-8897-491b-a8e9-5f13df7481b2",
   "metadata": {},
   "outputs": [],
   "source": []
  },
  {
   "cell_type": "code",
   "execution_count": null,
   "id": "4594448e-7b53-44a6-bdbd-3a0bc59116f9",
   "metadata": {},
   "outputs": [],
   "source": []
  },
  {
   "cell_type": "code",
   "execution_count": null,
   "id": "d93db6e4-5a68-49eb-a2f8-ea0b1d470056",
   "metadata": {},
   "outputs": [],
   "source": []
  },
  {
   "cell_type": "code",
   "execution_count": null,
   "id": "0e5c8e50-a917-44c5-894e-10d48ace0586",
   "metadata": {},
   "outputs": [],
   "source": []
  },
  {
   "cell_type": "code",
   "execution_count": null,
   "id": "e8a22313-1bef-4b2e-9ebc-4b458b411249",
   "metadata": {},
   "outputs": [],
   "source": []
  },
  {
   "cell_type": "code",
   "execution_count": null,
   "id": "dc5c1798-adc0-4e32-a56f-f81476948d56",
   "metadata": {},
   "outputs": [],
   "source": []
  },
  {
   "cell_type": "code",
   "execution_count": null,
   "id": "5ab28d14-a515-4fcc-9a3a-04c656d907ff",
   "metadata": {},
   "outputs": [],
   "source": []
  },
  {
   "cell_type": "code",
   "execution_count": null,
   "id": "bebe0693-6ca4-4169-9312-dd4871f267b7",
   "metadata": {},
   "outputs": [],
   "source": []
  },
  {
   "cell_type": "code",
   "execution_count": null,
   "id": "ba327443-aabd-46b4-a053-c7b2981bb832",
   "metadata": {},
   "outputs": [],
   "source": []
  },
  {
   "cell_type": "code",
   "execution_count": null,
   "id": "946a0a00-c7e0-44aa-9735-2e069fb312f1",
   "metadata": {},
   "outputs": [],
   "source": []
  },
  {
   "cell_type": "code",
   "execution_count": null,
   "id": "f5a5b986-00b0-43fe-a1e7-a6443a4f7ec9",
   "metadata": {},
   "outputs": [],
   "source": []
  },
  {
   "cell_type": "code",
   "execution_count": null,
   "id": "c8095937-2a78-4225-916d-8fc0355a9660",
   "metadata": {},
   "outputs": [],
   "source": []
  },
  {
   "cell_type": "code",
   "execution_count": null,
   "id": "e70be186-7c36-485d-ae0e-3dc2ae2d6689",
   "metadata": {},
   "outputs": [],
   "source": []
  },
  {
   "cell_type": "code",
   "execution_count": null,
   "id": "cdc3a2eb-f6cd-4304-832b-cb0a7f559aa2",
   "metadata": {},
   "outputs": [],
   "source": []
  },
  {
   "cell_type": "code",
   "execution_count": null,
   "id": "2d7ea37e-3e2d-4b4e-9c3c-45a31b9aae95",
   "metadata": {},
   "outputs": [],
   "source": []
  },
  {
   "cell_type": "code",
   "execution_count": null,
   "id": "009055db-9b92-4acf-a64c-e3607adfba50",
   "metadata": {},
   "outputs": [],
   "source": []
  },
  {
   "cell_type": "code",
   "execution_count": null,
   "id": "49b93867-ca8c-4d40-9a84-3eef1f394671",
   "metadata": {},
   "outputs": [],
   "source": []
  },
  {
   "cell_type": "code",
   "execution_count": null,
   "id": "5c8b5928-e1d8-4596-868d-d73d42e69529",
   "metadata": {},
   "outputs": [],
   "source": []
  },
  {
   "cell_type": "code",
   "execution_count": null,
   "id": "07c74d89-db6c-4efe-ae37-f20535fe844e",
   "metadata": {},
   "outputs": [],
   "source": []
  },
  {
   "cell_type": "code",
   "execution_count": null,
   "id": "6e6da2b6-5ee0-4b0b-a2e6-1c983b127ee7",
   "metadata": {},
   "outputs": [],
   "source": []
  },
  {
   "cell_type": "code",
   "execution_count": null,
   "id": "78b5679a-ad5e-43d6-a666-d642c4458746",
   "metadata": {},
   "outputs": [],
   "source": []
  },
  {
   "cell_type": "code",
   "execution_count": null,
   "id": "5d1e49c1-15d2-4b11-baa8-5762f2b60797",
   "metadata": {},
   "outputs": [],
   "source": []
  },
  {
   "cell_type": "code",
   "execution_count": null,
   "id": "d806630c-f4bf-4af8-9a87-6a2f12b02ca5",
   "metadata": {},
   "outputs": [],
   "source": []
  },
  {
   "cell_type": "code",
   "execution_count": null,
   "id": "32375e97-e948-47b8-a07f-4e62b2893bbc",
   "metadata": {},
   "outputs": [],
   "source": []
  },
  {
   "cell_type": "raw",
   "id": "d1e2532c-cad4-4260-8eb4-dc3962f54db6",
   "metadata": {},
   "source": []
  }
 ],
 "metadata": {
  "kernelspec": {
   "display_name": "Python 3 (ipykernel)",
   "language": "python",
   "name": "python3"
  },
  "language_info": {
   "codemirror_mode": {
    "name": "ipython",
    "version": 3
   },
   "file_extension": ".py",
   "mimetype": "text/x-python",
   "name": "python",
   "nbconvert_exporter": "python",
   "pygments_lexer": "ipython3",
   "version": "3.11.2"
  }
 },
 "nbformat": 4,
 "nbformat_minor": 5
}
